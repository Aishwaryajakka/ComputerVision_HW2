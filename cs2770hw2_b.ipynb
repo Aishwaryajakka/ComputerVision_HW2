{
  "nbformat": 4,
  "nbformat_minor": 0,
  "metadata": {
    "colab": {
      "name": "cs2770hw2-b.ipynb",
      "provenance": [],
      "collapsed_sections": []
    },
    "kernelspec": {
      "display_name": "Python 3",
      "name": "python3"
    },
    "language_info": {
      "name": "python"
    },
    "accelerator": "GPU",
    "widgets": {
      "application/vnd.jupyter.widget-state+json": {
        "674c75aaaa40409cb6f0fd31931a2f25": {
          "model_module": "@jupyter-widgets/controls",
          "model_name": "HBoxModel",
          "state": {
            "_view_name": "HBoxView",
            "_dom_classes": [],
            "_model_name": "HBoxModel",
            "_view_module": "@jupyter-widgets/controls",
            "_model_module_version": "1.5.0",
            "_view_count": null,
            "_view_module_version": "1.5.0",
            "box_style": "",
            "layout": "IPY_MODEL_3989ef0baf0746a0b32c04e025d3732a",
            "_model_module": "@jupyter-widgets/controls",
            "children": [
              "IPY_MODEL_86151419001f4bd3adca46a1e7daaa96",
              "IPY_MODEL_8e36e528e0d1419cbccf9ec0e03a21f9"
            ]
          }
        },
        "3989ef0baf0746a0b32c04e025d3732a": {
          "model_module": "@jupyter-widgets/base",
          "model_name": "LayoutModel",
          "state": {
            "_view_name": "LayoutView",
            "grid_template_rows": null,
            "right": null,
            "justify_content": null,
            "_view_module": "@jupyter-widgets/base",
            "overflow": null,
            "_model_module_version": "1.2.0",
            "_view_count": null,
            "flex_flow": null,
            "width": null,
            "min_width": null,
            "border": null,
            "align_items": null,
            "bottom": null,
            "_model_module": "@jupyter-widgets/base",
            "top": null,
            "grid_column": null,
            "overflow_y": null,
            "overflow_x": null,
            "grid_auto_flow": null,
            "grid_area": null,
            "grid_template_columns": null,
            "flex": null,
            "_model_name": "LayoutModel",
            "justify_items": null,
            "grid_row": null,
            "max_height": null,
            "align_content": null,
            "visibility": null,
            "align_self": null,
            "height": null,
            "min_height": null,
            "padding": null,
            "grid_auto_rows": null,
            "grid_gap": null,
            "max_width": null,
            "order": null,
            "_view_module_version": "1.2.0",
            "grid_template_areas": null,
            "object_position": null,
            "object_fit": null,
            "grid_auto_columns": null,
            "margin": null,
            "display": null,
            "left": null
          }
        },
        "86151419001f4bd3adca46a1e7daaa96": {
          "model_module": "@jupyter-widgets/controls",
          "model_name": "FloatProgressModel",
          "state": {
            "_view_name": "ProgressView",
            "style": "IPY_MODEL_8b6df359fb48412ea1bbc9c9433e96b8",
            "_dom_classes": [],
            "description": "100%",
            "_model_name": "FloatProgressModel",
            "bar_style": "success",
            "max": 553433881,
            "_view_module": "@jupyter-widgets/controls",
            "_model_module_version": "1.5.0",
            "value": 553433881,
            "_view_count": null,
            "_view_module_version": "1.5.0",
            "orientation": "horizontal",
            "min": 0,
            "description_tooltip": null,
            "_model_module": "@jupyter-widgets/controls",
            "layout": "IPY_MODEL_ba91b4ca830f40afb7dba590ab0bc8a9"
          }
        },
        "8e36e528e0d1419cbccf9ec0e03a21f9": {
          "model_module": "@jupyter-widgets/controls",
          "model_name": "HTMLModel",
          "state": {
            "_view_name": "HTMLView",
            "style": "IPY_MODEL_80899baa9a6848919fd8b245d7f5a434",
            "_dom_classes": [],
            "description": "",
            "_model_name": "HTMLModel",
            "placeholder": "​",
            "_view_module": "@jupyter-widgets/controls",
            "_model_module_version": "1.5.0",
            "value": " 528M/528M [15:29&lt;00:00, 596kB/s]",
            "_view_count": null,
            "_view_module_version": "1.5.0",
            "description_tooltip": null,
            "_model_module": "@jupyter-widgets/controls",
            "layout": "IPY_MODEL_56586324096642c9b9ce4aa2f2f7705b"
          }
        },
        "8b6df359fb48412ea1bbc9c9433e96b8": {
          "model_module": "@jupyter-widgets/controls",
          "model_name": "ProgressStyleModel",
          "state": {
            "_view_name": "StyleView",
            "_model_name": "ProgressStyleModel",
            "description_width": "initial",
            "_view_module": "@jupyter-widgets/base",
            "_model_module_version": "1.5.0",
            "_view_count": null,
            "_view_module_version": "1.2.0",
            "bar_color": null,
            "_model_module": "@jupyter-widgets/controls"
          }
        },
        "ba91b4ca830f40afb7dba590ab0bc8a9": {
          "model_module": "@jupyter-widgets/base",
          "model_name": "LayoutModel",
          "state": {
            "_view_name": "LayoutView",
            "grid_template_rows": null,
            "right": null,
            "justify_content": null,
            "_view_module": "@jupyter-widgets/base",
            "overflow": null,
            "_model_module_version": "1.2.0",
            "_view_count": null,
            "flex_flow": null,
            "width": null,
            "min_width": null,
            "border": null,
            "align_items": null,
            "bottom": null,
            "_model_module": "@jupyter-widgets/base",
            "top": null,
            "grid_column": null,
            "overflow_y": null,
            "overflow_x": null,
            "grid_auto_flow": null,
            "grid_area": null,
            "grid_template_columns": null,
            "flex": null,
            "_model_name": "LayoutModel",
            "justify_items": null,
            "grid_row": null,
            "max_height": null,
            "align_content": null,
            "visibility": null,
            "align_self": null,
            "height": null,
            "min_height": null,
            "padding": null,
            "grid_auto_rows": null,
            "grid_gap": null,
            "max_width": null,
            "order": null,
            "_view_module_version": "1.2.0",
            "grid_template_areas": null,
            "object_position": null,
            "object_fit": null,
            "grid_auto_columns": null,
            "margin": null,
            "display": null,
            "left": null
          }
        },
        "80899baa9a6848919fd8b245d7f5a434": {
          "model_module": "@jupyter-widgets/controls",
          "model_name": "DescriptionStyleModel",
          "state": {
            "_view_name": "StyleView",
            "_model_name": "DescriptionStyleModel",
            "description_width": "",
            "_view_module": "@jupyter-widgets/base",
            "_model_module_version": "1.5.0",
            "_view_count": null,
            "_view_module_version": "1.2.0",
            "_model_module": "@jupyter-widgets/controls"
          }
        },
        "56586324096642c9b9ce4aa2f2f7705b": {
          "model_module": "@jupyter-widgets/base",
          "model_name": "LayoutModel",
          "state": {
            "_view_name": "LayoutView",
            "grid_template_rows": null,
            "right": null,
            "justify_content": null,
            "_view_module": "@jupyter-widgets/base",
            "overflow": null,
            "_model_module_version": "1.2.0",
            "_view_count": null,
            "flex_flow": null,
            "width": null,
            "min_width": null,
            "border": null,
            "align_items": null,
            "bottom": null,
            "_model_module": "@jupyter-widgets/base",
            "top": null,
            "grid_column": null,
            "overflow_y": null,
            "overflow_x": null,
            "grid_auto_flow": null,
            "grid_area": null,
            "grid_template_columns": null,
            "flex": null,
            "_model_name": "LayoutModel",
            "justify_items": null,
            "grid_row": null,
            "max_height": null,
            "align_content": null,
            "visibility": null,
            "align_self": null,
            "height": null,
            "min_height": null,
            "padding": null,
            "grid_auto_rows": null,
            "grid_gap": null,
            "max_width": null,
            "order": null,
            "_view_module_version": "1.2.0",
            "grid_template_areas": null,
            "object_position": null,
            "object_fit": null,
            "grid_auto_columns": null,
            "margin": null,
            "display": null,
            "left": null
          }
        }
      }
    }
  },
  "cells": [
    {
      "cell_type": "code",
      "metadata": {
        "id": "USA2aewyiHQi"
      },
      "source": [
        "\n",
        "import torch\n",
        "import torch.nn as nn\n",
        "import torch.optim as optim\n",
        "from torch.optim import lr_scheduler\n",
        "import numpy as np\n",
        "import torchvision\n",
        "from torchvision import datasets, models, transforms\n",
        "import time\n",
        "import os\n",
        "import numpy as np\n",
        "import copy\n",
        "from sklearn.svm import LinearSVC\n",
        "from sklearn.pipeline import make_pipeline\n",
        "from sklearn.preprocessing import StandardScaler\n",
        "from sklearn.metrics import accuracy_score\n",
        "from sklearn.metrics import confusion_matrix"
      ],
      "execution_count": 1,
      "outputs": []
    },
    {
      "cell_type": "code",
      "metadata": {
        "colab": {
          "base_uri": "https://localhost:8080/"
        },
        "id": "kKV4JYCh0IXn",
        "outputId": "c1a3cda0-ff4e-4737-cd29-cccf1ccfde0e"
      },
      "source": [
        "device = 'cuda:0' if torch.cuda.is_available() else \"cpu\"\n",
        "print(f'Device is {device}')"
      ],
      "execution_count": 2,
      "outputs": [
        {
          "output_type": "stream",
          "text": [
            "Device is cuda:0\n"
          ],
          "name": "stdout"
        }
      ]
    },
    {
      "cell_type": "code",
      "metadata": {
        "id": "Ctgdfv060Inn"
      },
      "source": [
        "data_transforms = {\n",
        " 'train': transforms.Compose([\n",
        " transforms.Resize((224,224)),\n",
        " transforms.ToTensor(),\n",
        " transforms.Normalize([0.485, 0.456, 0.406], [0.229, 0.224, 0.225])\n",
        " ]),\n",
        " 'val': transforms.Compose([\n",
        " transforms.Resize((224,224)),\n",
        " transforms.ToTensor(),\n",
        " transforms.Normalize([0.485, 0.456, 0.406], [0.229, 0.224, 0.225])\n",
        " ]),\n",
        " 'test': transforms.Compose([\n",
        " transforms.Resize((224,224)),\n",
        " transforms.ToTensor(),\n",
        " transforms.Normalize([0.485, 0.456, 0.406], [0.229, 0.224, 0.225])\n",
        " ]),\n",
        "}"
      ],
      "execution_count": 3,
      "outputs": []
    },
    {
      "cell_type": "code",
      "metadata": {
        "id": "_jHt963X5pjA"
      },
      "source": [
        "# unzip the  file\n",
        "import zipfile\n",
        "with zipfile.ZipFile(\"hw2_data.zip\",\"r\") as zip_ref:\n",
        "    zip_ref.extractall(\"hw2_data\")"
      ],
      "execution_count": 5,
      "outputs": []
    },
    {
      "cell_type": "code",
      "metadata": {
        "colab": {
          "base_uri": "https://localhost:8080/"
        },
        "id": "LGlxDWas45QW",
        "outputId": "4ebc6824-39af-4d43-8ef3-055bb93a5102"
      },
      "source": [
        "data_dir = '/content/hw2_data/hw2_data'\n",
        "image_datasets = {x: datasets.ImageFolder(os.path.join(data_dir, x), data_transforms[x])\n",
        " for x in ['train', 'val', 'test']}\n",
        "dataloaders = {x: torch.utils.data.DataLoader(image_datasets[x], batch_size=8, shuffle=True, num_workers=4)\n",
        " for x in ['train', 'val' , 'test']}\n",
        "dataset_sizes = {x: len(image_datasets[x]) for x in ['train', 'val', 'test']}\n",
        "class_names = image_datasets['train'].classes"
      ],
      "execution_count": 6,
      "outputs": [
        {
          "output_type": "stream",
          "text": [
            "/usr/local/lib/python3.7/dist-packages/torch/utils/data/dataloader.py:477: UserWarning: This DataLoader will create 4 worker processes in total. Our suggested max number of worker in current system is 2, which is smaller than what this DataLoader is going to create. Please be aware that excessive worker creation might get DataLoader running slow or even freeze, lower the worker number to avoid potential slowness/freeze if necessary.\n",
            "  cpuset_checked))\n"
          ],
          "name": "stderr"
        }
      ]
    },
    {
      "cell_type": "code",
      "metadata": {
        "id": "-Iy6lDsS9-zl"
      },
      "source": [
        "def train_model(model, criterion, optimizer, scheduler, num_epochs=25):\n",
        "    since = time.time()\n",
        "\n",
        "    best_model_wts = copy.deepcopy(model.state_dict())\n",
        "    best_acc = 0.0\n",
        "\n",
        "    for epoch in range(num_epochs):\n",
        "        print('Epoch {}/{}'.format(epoch+1, num_epochs ))\n",
        "        print('-' * 10)\n",
        "\n",
        "        # Each epoch has a training and validation phase\n",
        "        for phase in ['train', 'val']:\n",
        "            if phase == 'train':\n",
        "                model.train()  # Set model to training mode\n",
        "            else:\n",
        "                model.eval()   # Set model to evaluate mode\n",
        "\n",
        "            running_loss = 0.0\n",
        "            running_corrects = 0\n",
        "\n",
        "            # Iterate over data.\n",
        "            for inputs, labels in dataloaders[phase]:\n",
        "                inputs = inputs.to(device)\n",
        "                labels = labels.to(device)\n",
        "\n",
        "                # zero the parameter gradients\n",
        "                optimizer.zero_grad()\n",
        "\n",
        "                # forward\n",
        "                # track history if only in train\n",
        "                with torch.set_grad_enabled(phase == 'train'):\n",
        "                    outputs = model(inputs)\n",
        "                    _, preds = torch.max(outputs, 1)\n",
        "                    loss = criterion(outputs, labels)\n",
        "\n",
        "                    # backward + optimize only if in training phase\n",
        "                    if phase == 'train':\n",
        "                        loss.backward()\n",
        "                        optimizer.step()\n",
        "\n",
        "                # statistics\n",
        "                running_loss += loss.item() * inputs.size(0)\n",
        "                running_corrects += torch.sum(preds == labels.data)\n",
        "            if phase == 'train':\n",
        "                scheduler.step()\n",
        "\n",
        "            epoch_loss = running_loss / dataset_sizes[phase]\n",
        "            epoch_acc = running_corrects.double() / dataset_sizes[phase]\n",
        "\n",
        "            print('{} Loss: {:.4f} Acc: {:.4f}'.format(\n",
        "                phase, epoch_loss, epoch_acc))\n",
        "\n",
        "            # deep copy the model\n",
        "            if phase == 'val' and epoch_acc > best_acc:\n",
        "                best_acc = epoch_acc\n",
        "                best_model_wts = copy.deepcopy(model.state_dict())\n",
        "                torch.save(best_model_wts ,'best_model_weight.pth')\n",
        "\n",
        "        print()\n",
        "\n",
        "    time_elapsed = time.time() - since\n",
        "    print('Training complete in {:.0f}m {:.0f}s'.format(\n",
        "        time_elapsed // 60, time_elapsed % 60))\n",
        "    print('Best val Acc: {:4f}'.format(best_acc))\n",
        "\n",
        "    # load best model weights\n",
        "    model.load_state_dict(best_model_wts)\n",
        "    return model"
      ],
      "execution_count": 7,
      "outputs": []
    },
    {
      "cell_type": "code",
      "metadata": {
        "id": "4pcAQfaQBCMm",
        "colab": {
          "base_uri": "https://localhost:8080/",
          "height": 83,
          "referenced_widgets": [
            "674c75aaaa40409cb6f0fd31931a2f25",
            "3989ef0baf0746a0b32c04e025d3732a",
            "86151419001f4bd3adca46a1e7daaa96",
            "8e36e528e0d1419cbccf9ec0e03a21f9",
            "8b6df359fb48412ea1bbc9c9433e96b8",
            "ba91b4ca830f40afb7dba590ab0bc8a9",
            "80899baa9a6848919fd8b245d7f5a434",
            "56586324096642c9b9ce4aa2f2f7705b"
          ]
        },
        "outputId": "36b6ff70-b1d3-435e-af53-bc050fad47c7"
      },
      "source": [
        "model = models.vgg16(pretrained=True)\n",
        "num_ftrs = model.classifier[6].in_features\n",
        "\n",
        "model.classifier[6] = nn.Linear(num_ftrs, len(class_names))\n",
        "\n",
        "model = model.to(device)\n",
        "\n",
        "criterion = nn.CrossEntropyLoss()\n",
        "\n",
        "# Observe that all parameters are being optimized\n",
        "optimizer = optim.SGD(model.parameters(), lr=0.001, momentum=0.9)\n",
        "\n",
        "# Decay LR by a factor of 0.1 every 7 epochs\n",
        "scheduler = lr_scheduler.StepLR(optimizer, step_size=7, gamma=0.1)"
      ],
      "execution_count": 8,
      "outputs": [
        {
          "output_type": "stream",
          "text": [
            "Downloading: \"https://download.pytorch.org/models/vgg16-397923af.pth\" to /root/.cache/torch/hub/checkpoints/vgg16-397923af.pth\n"
          ],
          "name": "stderr"
        },
        {
          "output_type": "display_data",
          "data": {
            "application/vnd.jupyter.widget-view+json": {
              "model_id": "674c75aaaa40409cb6f0fd31931a2f25",
              "version_minor": 0,
              "version_major": 2
            },
            "text/plain": [
              "HBox(children=(FloatProgress(value=0.0, max=553433881.0), HTML(value='')))"
            ]
          },
          "metadata": {
            "tags": []
          }
        },
        {
          "output_type": "stream",
          "text": [
            "\n"
          ],
          "name": "stdout"
        }
      ]
    },
    {
      "cell_type": "code",
      "metadata": {
        "id": "8Ba3V6Yr0Ity",
        "colab": {
          "base_uri": "https://localhost:8080/"
        },
        "outputId": "fe7f600b-60f4-42bd-8125-4a135167d07b"
      },
      "source": [
        "model = train_model(model, criterion, optimizer, scheduler, num_epochs=25)"
      ],
      "execution_count": 9,
      "outputs": [
        {
          "output_type": "stream",
          "text": [
            "Epoch 1/25\n",
            "----------\n"
          ],
          "name": "stdout"
        },
        {
          "output_type": "stream",
          "text": [
            "/usr/local/lib/python3.7/dist-packages/torch/utils/data/dataloader.py:477: UserWarning: This DataLoader will create 4 worker processes in total. Our suggested max number of worker in current system is 2, which is smaller than what this DataLoader is going to create. Please be aware that excessive worker creation might get DataLoader running slow or even freeze, lower the worker number to avoid potential slowness/freeze if necessary.\n",
            "  cpuset_checked))\n"
          ],
          "name": "stderr"
        },
        {
          "output_type": "stream",
          "text": [
            "train Loss: 1.5683 Acc: 0.5386\n",
            "val Loss: 1.3682 Acc: 0.5861\n",
            "\n",
            "Epoch 2/25\n",
            "----------\n",
            "train Loss: 1.1253 Acc: 0.6504\n",
            "val Loss: 1.2627 Acc: 0.6282\n",
            "\n",
            "Epoch 3/25\n",
            "----------\n",
            "train Loss: 0.9324 Acc: 0.7004\n",
            "val Loss: 1.2981 Acc: 0.6071\n",
            "\n",
            "Epoch 4/25\n",
            "----------\n",
            "train Loss: 0.8018 Acc: 0.7355\n",
            "val Loss: 1.3278 Acc: 0.5840\n",
            "\n",
            "Epoch 5/25\n",
            "----------\n",
            "train Loss: 0.7060 Acc: 0.7583\n",
            "val Loss: 1.2087 Acc: 0.6492\n",
            "\n",
            "Epoch 6/25\n",
            "----------\n",
            "train Loss: 0.6343 Acc: 0.7780\n",
            "val Loss: 1.3393 Acc: 0.6324\n",
            "\n",
            "Epoch 7/25\n",
            "----------\n",
            "train Loss: 0.5630 Acc: 0.7882\n",
            "val Loss: 1.2694 Acc: 0.6450\n",
            "\n",
            "Epoch 8/25\n",
            "----------\n",
            "train Loss: 0.4144 Acc: 0.8259\n",
            "val Loss: 1.3065 Acc: 0.6555\n",
            "\n",
            "Epoch 9/25\n",
            "----------\n",
            "train Loss: 0.3673 Acc: 0.8342\n",
            "val Loss: 1.3339 Acc: 0.6534\n",
            "\n",
            "Epoch 10/25\n",
            "----------\n",
            "train Loss: 0.3573 Acc: 0.8272\n",
            "val Loss: 1.3445 Acc: 0.6618\n",
            "\n",
            "Epoch 11/25\n",
            "----------\n",
            "train Loss: 0.3378 Acc: 0.8319\n",
            "val Loss: 1.3693 Acc: 0.6639\n",
            "\n",
            "Epoch 12/25\n",
            "----------\n",
            "train Loss: 0.3432 Acc: 0.8288\n",
            "val Loss: 1.4003 Acc: 0.6555\n",
            "\n",
            "Epoch 13/25\n",
            "----------\n",
            "train Loss: 0.3278 Acc: 0.8361\n",
            "val Loss: 1.4222 Acc: 0.6555\n",
            "\n",
            "Epoch 14/25\n",
            "----------\n",
            "train Loss: 0.3267 Acc: 0.8327\n",
            "val Loss: 1.4037 Acc: 0.6576\n",
            "\n",
            "Epoch 15/25\n",
            "----------\n",
            "train Loss: 0.3005 Acc: 0.8487\n",
            "val Loss: 1.4216 Acc: 0.6576\n",
            "\n",
            "Epoch 16/25\n",
            "----------\n",
            "train Loss: 0.3019 Acc: 0.8432\n",
            "val Loss: 1.4358 Acc: 0.6555\n",
            "\n",
            "Epoch 17/25\n",
            "----------\n",
            "train Loss: 0.3046 Acc: 0.8395\n",
            "val Loss: 1.4419 Acc: 0.6597\n",
            "\n",
            "Epoch 18/25\n",
            "----------\n",
            "train Loss: 0.3002 Acc: 0.8452\n",
            "val Loss: 1.4472 Acc: 0.6597\n",
            "\n",
            "Epoch 19/25\n",
            "----------\n",
            "train Loss: 0.2982 Acc: 0.8452\n",
            "val Loss: 1.4519 Acc: 0.6597\n",
            "\n",
            "Epoch 20/25\n",
            "----------\n",
            "train Loss: 0.2938 Acc: 0.8497\n",
            "val Loss: 1.4590 Acc: 0.6597\n",
            "\n",
            "Epoch 21/25\n",
            "----------\n",
            "train Loss: 0.3031 Acc: 0.8392\n",
            "val Loss: 1.4623 Acc: 0.6597\n",
            "\n",
            "Epoch 22/25\n",
            "----------\n",
            "train Loss: 0.2937 Acc: 0.8487\n",
            "val Loss: 1.4627 Acc: 0.6597\n",
            "\n",
            "Epoch 23/25\n",
            "----------\n",
            "train Loss: 0.2908 Acc: 0.8473\n",
            "val Loss: 1.4636 Acc: 0.6597\n",
            "\n",
            "Epoch 24/25\n",
            "----------\n",
            "train Loss: 0.2966 Acc: 0.8466\n",
            "val Loss: 1.4641 Acc: 0.6597\n",
            "\n",
            "Epoch 25/25\n",
            "----------\n",
            "train Loss: 0.2922 Acc: 0.8455\n",
            "val Loss: 1.4652 Acc: 0.6597\n",
            "\n",
            "Training complete in 19m 45s\n",
            "Best val Acc: 0.663866\n"
          ],
          "name": "stdout"
        }
      ]
    },
    {
      "cell_type": "code",
      "metadata": {
        "id": "WQQySLZO0I1b",
        "colab": {
          "base_uri": "https://localhost:8080/"
        },
        "outputId": "2b5936de-b336-4475-c327-1a5b3d8d23b3"
      },
      "source": [
        "\n",
        "print('Testing')\n",
        "model = models.vgg16()\n",
        "num_ftrs = model.classifier[6].in_features\n",
        "model.classifier[6] = nn.Linear(num_ftrs, 20)\n",
        "model = model.to(device)\n",
        "model.load_state_dict(torch.load('/content/best_model_weight.pth'))\n"
      ],
      "execution_count": 10,
      "outputs": [
        {
          "output_type": "stream",
          "text": [
            "Testing\n"
          ],
          "name": "stdout"
        },
        {
          "output_type": "execute_result",
          "data": {
            "text/plain": [
              "<All keys matched successfully>"
            ]
          },
          "metadata": {
            "tags": []
          },
          "execution_count": 10
        }
      ]
    },
    {
      "cell_type": "code",
      "metadata": {
        "id": "fuFgQ7qv-VBy"
      },
      "source": [
        "def get_test_results(model, phase):\n",
        "\n",
        "\tmodel.eval()\n",
        "\t\n",
        "\ty_true = []\n",
        "\ty_pred = []\n",
        "\t\n",
        "\tfor inputs, labels in dataloaders[phase]:\n",
        "\t\tinputs = inputs.to(device)\n",
        "\t\toutputs = model(inputs)\n",
        "\t\t_, preds = torch.max(outputs, 1)\n",
        "\t\ty_true.extend(labels)\n",
        "\t\ty_pred.extend(preds.to('cpu'))\n",
        "\t\t\n",
        "\treturn y_true, y_pred"
      ],
      "execution_count": 11,
      "outputs": []
    },
    {
      "cell_type": "code",
      "metadata": {
        "id": "KcXQqch00I5L",
        "colab": {
          "base_uri": "https://localhost:8080/"
        },
        "outputId": "79425d95-b758-481c-a202-ae4811b0fcdd"
      },
      "source": [
        "y_true, y_pred = get_test_results(model, 'train')\n",
        "print(f\"Accuracy Score: {accuracy_score(y_true, y_pred)}\\n\")\n",
        "print(f\"Confusion Matrix\\n\")\n",
        "print(np.array2string(confusion_matrix(y_true, y_pred)))"
      ],
      "execution_count": 12,
      "outputs": [
        {
          "output_type": "stream",
          "text": [
            "/usr/local/lib/python3.7/dist-packages/torch/utils/data/dataloader.py:477: UserWarning: This DataLoader will create 4 worker processes in total. Our suggested max number of worker in current system is 2, which is smaller than what this DataLoader is going to create. Please be aware that excessive worker creation might get DataLoader running slow or even freeze, lower the worker number to avoid potential slowness/freeze if necessary.\n",
            "  cpuset_checked))\n"
          ],
          "name": "stderr"
        },
        {
          "output_type": "stream",
          "text": [
            "Accuracy Score: 0.8449855983241686\n",
            "\n",
            "Confusion Matrix\n",
            "\n",
            "[[194   0   0   2   0   0   4   0   0   0   0   0   0   0   0   0   0   0\n",
            "    0   0]\n",
            " [  0 182   0   1   2   5   1   0   0   1   0   0   0   2   1   2   0   0\n",
            "    2   1]\n",
            " [  0   0 195   0   0   0   1   0   0   0   0   1   0   0   1   1   0   0\n",
            "    0   1]\n",
            " [  0   0   1 196   0   0   0   0   0   0   0   0   0   1   1   0   0   1\n",
            "    0   0]\n",
            " [  0   5   0   0 149   0   1   2   4   0  16   3   1   0   3   1   1   2\n",
            "    0  12]\n",
            " [  0   2   0   0   0 161   6   0   0   0   0   0   0   2   0   0   0   0\n",
            "    0   0]\n",
            " [  2   9   0   3   2  12 156   1   0   0   0   1   0   4   7   1   0   0\n",
            "    2   0]\n",
            " [  0   0   0   0   3   0   1 181   3   0   1   5   0   0   0   1   0   2\n",
            "    0   3]\n",
            " [  0   1   0   0   6   0   1   3  96   0  27   6   0   0   5  17   0   8\n",
            "    0  30]\n",
            " [  0   0   0   0   0   0   1   0   0 120   0   0   0   0   0   0   0   0\n",
            "    0   0]\n",
            " [  0   0   0   0  15   0   0   0   9   0 153   1   0   0   1  14   0   4\n",
            "    0   3]\n",
            " [  0   0   1   0   4   0   4   2   1   0   0 179   0   0   1   2   2   4\n",
            "    0   0]\n",
            " [  0   0   0   0   1   0   0   0   0   0   0   2 182   1   4   0   0   0\n",
            "    0   0]\n",
            " [  0   3   0   1   0   2   5   0   0   0   0   0   0 182   4   2   1   0\n",
            "    0   0]\n",
            " [  0   5   1   6   9   2  10   1   6   0   3   3   6   8 128   3   0   2\n",
            "    2   5]\n",
            " [  0   3   0   1   4   1   2   4   3   0  21   3   1   2   0 138   0   9\n",
            "    1   7]\n",
            " [  0   0   1   0   0   0   0   1   0   1   0   0   0   0   0   0 134   0\n",
            "    0   0]\n",
            " [  0   1   0   0   5   0   0   2   2   0   4   8   0   0   1  21   0 141\n",
            "    0  15]\n",
            " [  0   0   0   0   0   1   2   0   1   0   0   0   0   0   0   2   0   0\n",
            "  194   0]\n",
            " [  0   0   0   0   7   0   0   2   3   0   1   1   0   0   0  11   0   9\n",
            "    0 166]]\n"
          ],
          "name": "stdout"
        }
      ]
    },
    {
      "cell_type": "markdown",
      "metadata": {
        "id": "agIFh1ZD1jam"
      },
      "source": [
        "\n",
        "# Variation 1 "
      ]
    },
    {
      "cell_type": "code",
      "metadata": {
        "id": "fV11Z4Dx0I8q",
        "colab": {
          "base_uri": "https://localhost:8080/"
        },
        "outputId": "f2f20a00-367d-4aca-aa82-d04d7bf6cc90"
      },
      "source": [
        "#Learning rate = 0.001\n",
        "model = models.vgg16(pretrained=True)\n",
        "num_ftrs = model.classifier[6].in_features\n",
        "\n",
        "model.classifier[6] = nn.Linear(num_ftrs, len(class_names))\n",
        "\n",
        "model = model.to(device)\n",
        "\n",
        "criterion = nn.CrossEntropyLoss()\n",
        "\n",
        "# Observe that all parameters are being optimized\n",
        "optimizer = optim.SGD(model.parameters(), lr=0.0001, momentum=0.9)\n",
        "\n",
        "# Decay LR by a factor of 0.1 every 7 epochs\n",
        "scheduler = lr_scheduler.StepLR(optimizer, step_size=7, gamma=0.1)\n",
        "\n",
        "#Training\n",
        "model = train_model(model, criterion, optimizer, scheduler, num_epochs=25)"
      ],
      "execution_count": 16,
      "outputs": [
        {
          "output_type": "stream",
          "text": [
            "Epoch 1/25\n",
            "----------\n"
          ],
          "name": "stdout"
        },
        {
          "output_type": "stream",
          "text": [
            "/usr/local/lib/python3.7/dist-packages/torch/utils/data/dataloader.py:477: UserWarning: This DataLoader will create 4 worker processes in total. Our suggested max number of worker in current system is 2, which is smaller than what this DataLoader is going to create. Please be aware that excessive worker creation might get DataLoader running slow or even freeze, lower the worker number to avoid potential slowness/freeze if necessary.\n",
            "  cpuset_checked))\n"
          ],
          "name": "stderr"
        },
        {
          "output_type": "stream",
          "text": [
            "train Loss: 1.6840 Acc: 0.5135\n",
            "val Loss: 1.1981 Acc: 0.6387\n",
            "\n",
            "Epoch 2/25\n",
            "----------\n",
            "train Loss: 1.0901 Acc: 0.6646\n",
            "val Loss: 1.1311 Acc: 0.6576\n",
            "\n",
            "Epoch 3/25\n",
            "----------\n",
            "train Loss: 0.9251 Acc: 0.7057\n",
            "val Loss: 1.1304 Acc: 0.6639\n",
            "\n",
            "Epoch 4/25\n",
            "----------\n",
            "train Loss: 0.8199 Acc: 0.7261\n",
            "val Loss: 1.1313 Acc: 0.6576\n",
            "\n",
            "Epoch 5/25\n",
            "----------\n",
            "train Loss: 0.7410 Acc: 0.7549\n",
            "val Loss: 1.0975 Acc: 0.6555\n",
            "\n",
            "Epoch 6/25\n",
            "----------\n",
            "train Loss: 0.6921 Acc: 0.7578\n",
            "val Loss: 1.1647 Acc: 0.6576\n",
            "\n",
            "Epoch 7/25\n",
            "----------\n",
            "train Loss: 0.6277 Acc: 0.7748\n",
            "val Loss: 1.1557 Acc: 0.6471\n",
            "\n",
            "Epoch 8/25\n",
            "----------\n",
            "train Loss: 0.5295 Acc: 0.7989\n",
            "val Loss: 1.1967 Acc: 0.6513\n",
            "\n",
            "Epoch 9/25\n",
            "----------\n",
            "train Loss: 0.4990 Acc: 0.8089\n",
            "val Loss: 1.2056 Acc: 0.6513\n",
            "\n",
            "Epoch 10/25\n",
            "----------\n",
            "train Loss: 0.4814 Acc: 0.8149\n",
            "val Loss: 1.2062 Acc: 0.6513\n",
            "\n",
            "Epoch 11/25\n",
            "----------\n",
            "train Loss: 0.4853 Acc: 0.8115\n",
            "val Loss: 1.2180 Acc: 0.6555\n",
            "\n",
            "Epoch 12/25\n",
            "----------\n",
            "train Loss: 0.4690 Acc: 0.8143\n",
            "val Loss: 1.2192 Acc: 0.6618\n",
            "\n",
            "Epoch 13/25\n",
            "----------\n",
            "train Loss: 0.4710 Acc: 0.8125\n",
            "val Loss: 1.2337 Acc: 0.6597\n",
            "\n",
            "Epoch 14/25\n",
            "----------\n",
            "train Loss: 0.4653 Acc: 0.8175\n",
            "val Loss: 1.2499 Acc: 0.6597\n",
            "\n",
            "Epoch 15/25\n",
            "----------\n",
            "train Loss: 0.4544 Acc: 0.8212\n",
            "val Loss: 1.2470 Acc: 0.6639\n",
            "\n",
            "Epoch 16/25\n",
            "----------\n",
            "train Loss: 0.4415 Acc: 0.8212\n",
            "val Loss: 1.2472 Acc: 0.6681\n",
            "\n",
            "Epoch 17/25\n",
            "----------\n",
            "train Loss: 0.4477 Acc: 0.8185\n",
            "val Loss: 1.2470 Acc: 0.6660\n",
            "\n",
            "Epoch 18/25\n",
            "----------\n",
            "train Loss: 0.4455 Acc: 0.8248\n",
            "val Loss: 1.2465 Acc: 0.6681\n",
            "\n",
            "Epoch 19/25\n",
            "----------\n",
            "train Loss: 0.4401 Acc: 0.8240\n",
            "val Loss: 1.2471 Acc: 0.6660\n",
            "\n",
            "Epoch 20/25\n",
            "----------\n",
            "train Loss: 0.4524 Acc: 0.8180\n",
            "val Loss: 1.2476 Acc: 0.6660\n",
            "\n",
            "Epoch 21/25\n",
            "----------\n",
            "train Loss: 0.4376 Acc: 0.8246\n",
            "val Loss: 1.2484 Acc: 0.6660\n",
            "\n",
            "Epoch 22/25\n",
            "----------\n",
            "train Loss: 0.4495 Acc: 0.8157\n",
            "val Loss: 1.2484 Acc: 0.6660\n",
            "\n",
            "Epoch 23/25\n",
            "----------\n",
            "train Loss: 0.4376 Acc: 0.8277\n",
            "val Loss: 1.2487 Acc: 0.6660\n",
            "\n",
            "Epoch 24/25\n",
            "----------\n",
            "train Loss: 0.4359 Acc: 0.8303\n",
            "val Loss: 1.2489 Acc: 0.6660\n",
            "\n",
            "Epoch 25/25\n",
            "----------\n",
            "train Loss: 0.4531 Acc: 0.8183\n",
            "val Loss: 1.2489 Acc: 0.6660\n",
            "\n",
            "Training complete in 19m 32s\n",
            "Best val Acc: 0.668067\n"
          ],
          "name": "stdout"
        }
      ]
    },
    {
      "cell_type": "code",
      "metadata": {
        "id": "ZJKiw0CX0JDV",
        "colab": {
          "base_uri": "https://localhost:8080/"
        },
        "outputId": "15db7add-d95c-4175-8fa4-855ca46d588c"
      },
      "source": [
        "print('Testing')\n",
        "model = models.vgg16()\n",
        "num_ftrs = model.classifier[6].in_features\n",
        "model.classifier[6] = nn.Linear(num_ftrs, 20)\n",
        "model = model.to(device)\n",
        "model.load_state_dict(torch.load('/content/best_model_weight.pth'))"
      ],
      "execution_count": 17,
      "outputs": [
        {
          "output_type": "stream",
          "text": [
            "Testing\n"
          ],
          "name": "stdout"
        },
        {
          "output_type": "execute_result",
          "data": {
            "text/plain": [
              "<All keys matched successfully>"
            ]
          },
          "metadata": {
            "tags": []
          },
          "execution_count": 17
        }
      ]
    },
    {
      "cell_type": "code",
      "metadata": {
        "id": "_nFauZhPx-p0",
        "colab": {
          "base_uri": "https://localhost:8080/"
        },
        "outputId": "37c97e09-5c4a-40e7-f2bd-c0dd6da801d4"
      },
      "source": [
        "y_true, y_pred = get_test_results(model, 'train')\n",
        "print(f\"Accuracy Score: {accuracy_score(y_true, y_pred)}\\n\")\n",
        "print(f\"Confusion Matrix\\n\")\n",
        "print(np.array2string(confusion_matrix(y_true, y_pred)))"
      ],
      "execution_count": 18,
      "outputs": [
        {
          "output_type": "stream",
          "text": [
            "/usr/local/lib/python3.7/dist-packages/torch/utils/data/dataloader.py:477: UserWarning: This DataLoader will create 4 worker processes in total. Our suggested max number of worker in current system is 2, which is smaller than what this DataLoader is going to create. Please be aware that excessive worker creation might get DataLoader running slow or even freeze, lower the worker number to avoid potential slowness/freeze if necessary.\n",
            "  cpuset_checked))\n"
          ],
          "name": "stderr"
        },
        {
          "output_type": "stream",
          "text": [
            "Accuracy Score: 0.8394867766431003\n",
            "\n",
            "Confusion Matrix\n",
            "\n",
            "[[197   0   0   1   0   1   1   0   0   0   0   0   0   0   0   0   0   0\n",
            "    0   0]\n",
            " [  0 181   0   0   2   4   4   0   0   1   0   0   0   4   1   1   0   0\n",
            "    1   1]\n",
            " [  0   0 196   1   0   0   0   0   0   0   0   1   0   0   1   0   1   0\n",
            "    0   0]\n",
            " [  1   1   0 193   0   0   1   0   0   0   0   0   0   1   2   0   0   1\n",
            "    0   0]\n",
            " [  0   5   0   0 126   0   2   3   5   0  23   5   2   0   4   1   1   8\n",
            "    0  15]\n",
            " [  0   3   0   0   0 161   3   0   0   0   0   0   0   2   1   0   0   0\n",
            "    1   0]\n",
            " [  5   4   1   3   2  16 148   0   0   1   0   4   0   5   4   3   0   0\n",
            "    4   0]\n",
            " [  0   0   0   0   3   0   1 181   1   0   0   5   0   0   0   1   1   4\n",
            "    0   3]\n",
            " [  0   1   0   0   6   0   2   5  92   0  28   4   0   0   8  16   0  13\n",
            "    1  24]\n",
            " [  0   0   0   0   0   0   0   0   0 120   0   0   0   0   0   0   1   0\n",
            "    0   0]\n",
            " [  0   0   0   0   9   0   0   2   9   0 161   1   0   0   1   7   0   9\n",
            "    0   1]\n",
            " [  0   0   1   0   1   0   2   2   2   0   0 179   1   0   1   2   2   7\n",
            "    0   0]\n",
            " [  0   0   0   0   0   0   0   0   0   0   0   1 186   1   2   0   0   0\n",
            "    0   0]\n",
            " [  0   1   0   0   0   2   5   0   0   0   0   0   0 189   2   0   1   0\n",
            "    0   0]\n",
            " [  0   5   1   5   9   1  15   2   2   1   4   3   8   9 120   4   0   4\n",
            "    2   5]\n",
            " [  0   4   1   1   1   0   1   5   6   0  26   2   1   4   0 109   0  26\n",
            "    3  10]\n",
            " [  0   0   0   0   0   0   0   0   0   0   0   0   0   0   0   0 137   0\n",
            "    0   0]\n",
            " [  0   0   0   0   0   0   0   1   2   0   3   5   0   1   1   5   0 169\n",
            "    0  13]\n",
            " [  0   1   0   0   0   0   1   0   0   0   0   0   0   0   0   1   0   0\n",
            "  197   0]\n",
            " [  0   0   1   0   5   0   0   1   3   0   4   1   0   0   0   4   0  17\n",
            "    0 164]]\n"
          ],
          "name": "stdout"
        }
      ]
    },
    {
      "cell_type": "markdown",
      "metadata": {
        "id": "ovZ5e8dB2HFl"
      },
      "source": [
        "# Variation 2"
      ]
    },
    {
      "cell_type": "code",
      "metadata": {
        "id": "5rHuAkI0x-tI",
        "colab": {
          "base_uri": "https://localhost:8080/"
        },
        "outputId": "8057568c-32c2-48f0-f002-771ee2e640eb"
      },
      "source": [
        "#Learning rate = 0.002\n",
        "model = models.vgg16(pretrained=True)\n",
        "num_ftrs = model.classifier[6].in_features\n",
        "\n",
        "model.classifier[6] = nn.Linear(num_ftrs, len(class_names))\n",
        "\n",
        "model = model.to(device)\n",
        "\n",
        "criterion = nn.CrossEntropyLoss()\n",
        "\n",
        "# Observe that all parameters are being optimized\n",
        "optimizer = optim.SGD(model.parameters(), lr=0.002, momentum=0.9)\n",
        "\n",
        "# Decay LR by a factor of 0.1 every 7 epochs\n",
        "scheduler = lr_scheduler.StepLR(optimizer, step_size=7, gamma=0.1)\n",
        "\n",
        "#Training\n",
        "model = train_model(model, criterion, optimizer, scheduler, num_epochs=25)"
      ],
      "execution_count": 20,
      "outputs": [
        {
          "output_type": "stream",
          "text": [
            "Epoch 1/25\n",
            "----------\n"
          ],
          "name": "stdout"
        },
        {
          "output_type": "stream",
          "text": [
            "/usr/local/lib/python3.7/dist-packages/torch/utils/data/dataloader.py:477: UserWarning: This DataLoader will create 4 worker processes in total. Our suggested max number of worker in current system is 2, which is smaller than what this DataLoader is going to create. Please be aware that excessive worker creation might get DataLoader running slow or even freeze, lower the worker number to avoid potential slowness/freeze if necessary.\n",
            "  cpuset_checked))\n"
          ],
          "name": "stderr"
        },
        {
          "output_type": "stream",
          "text": [
            "train Loss: 1.7671 Acc: 0.4716\n",
            "val Loss: 1.4304 Acc: 0.5546\n",
            "\n",
            "Epoch 2/25\n",
            "----------\n",
            "train Loss: 1.3259 Acc: 0.5855\n",
            "val Loss: 1.4939 Acc: 0.5399\n",
            "\n",
            "Epoch 3/25\n",
            "----------\n",
            "train Loss: 1.0910 Acc: 0.6502\n",
            "val Loss: 1.4645 Acc: 0.5777\n",
            "\n",
            "Epoch 4/25\n",
            "----------\n",
            "train Loss: 0.9484 Acc: 0.6884\n",
            "val Loss: 1.3951 Acc: 0.5819\n",
            "\n",
            "Epoch 5/25\n",
            "----------\n",
            "train Loss: 0.8104 Acc: 0.7287\n",
            "val Loss: 1.5656 Acc: 0.5693\n",
            "\n",
            "Epoch 6/25\n",
            "----------\n",
            "train Loss: 0.7043 Acc: 0.7612\n",
            "val Loss: 1.3578 Acc: 0.6345\n",
            "\n",
            "Epoch 7/25\n",
            "----------\n",
            "train Loss: 0.6362 Acc: 0.7795\n",
            "val Loss: 1.4823 Acc: 0.5609\n",
            "\n",
            "Epoch 8/25\n",
            "----------\n",
            "train Loss: 0.4516 Acc: 0.8267\n",
            "val Loss: 1.3729 Acc: 0.6218\n",
            "\n",
            "Epoch 9/25\n",
            "----------\n",
            "train Loss: 0.3958 Acc: 0.8225\n",
            "val Loss: 1.4197 Acc: 0.6303\n",
            "\n",
            "Epoch 10/25\n",
            "----------\n",
            "train Loss: 0.3611 Acc: 0.8322\n",
            "val Loss: 1.4186 Acc: 0.6303\n",
            "\n",
            "Epoch 11/25\n",
            "----------\n",
            "train Loss: 0.3554 Acc: 0.8277\n",
            "val Loss: 1.4768 Acc: 0.6303\n",
            "\n",
            "Epoch 12/25\n",
            "----------\n",
            "train Loss: 0.3443 Acc: 0.8251\n",
            "val Loss: 1.4811 Acc: 0.6303\n",
            "\n",
            "Epoch 13/25\n",
            "----------\n",
            "train Loss: 0.3417 Acc: 0.8246\n",
            "val Loss: 1.4770 Acc: 0.6345\n",
            "\n",
            "Epoch 14/25\n",
            "----------\n",
            "train Loss: 0.3304 Acc: 0.8240\n",
            "val Loss: 1.5342 Acc: 0.6303\n",
            "\n",
            "Epoch 15/25\n",
            "----------\n",
            "train Loss: 0.3066 Acc: 0.8405\n",
            "val Loss: 1.5286 Acc: 0.6324\n",
            "\n",
            "Epoch 16/25\n",
            "----------\n",
            "train Loss: 0.2960 Acc: 0.8473\n",
            "val Loss: 1.5319 Acc: 0.6345\n",
            "\n",
            "Epoch 17/25\n",
            "----------\n",
            "train Loss: 0.3053 Acc: 0.8434\n",
            "val Loss: 1.5384 Acc: 0.6324\n",
            "\n",
            "Epoch 18/25\n",
            "----------\n",
            "train Loss: 0.3038 Acc: 0.8392\n",
            "val Loss: 1.5468 Acc: 0.6324\n",
            "\n",
            "Epoch 19/25\n",
            "----------\n",
            "train Loss: 0.2970 Acc: 0.8424\n",
            "val Loss: 1.5548 Acc: 0.6366\n",
            "\n",
            "Epoch 20/25\n",
            "----------\n",
            "train Loss: 0.2990 Acc: 0.8397\n",
            "val Loss: 1.5521 Acc: 0.6408\n",
            "\n",
            "Epoch 21/25\n",
            "----------\n",
            "train Loss: 0.2996 Acc: 0.8392\n",
            "val Loss: 1.5576 Acc: 0.6387\n",
            "\n",
            "Epoch 22/25\n",
            "----------\n",
            "train Loss: 0.2845 Acc: 0.8492\n",
            "val Loss: 1.5586 Acc: 0.6387\n",
            "\n",
            "Epoch 23/25\n",
            "----------\n",
            "train Loss: 0.2919 Acc: 0.8481\n",
            "val Loss: 1.5596 Acc: 0.6387\n",
            "\n",
            "Epoch 24/25\n",
            "----------\n",
            "train Loss: 0.2987 Acc: 0.8463\n",
            "val Loss: 1.5600 Acc: 0.6387\n",
            "\n",
            "Epoch 25/25\n",
            "----------\n",
            "train Loss: 0.2852 Acc: 0.8492\n",
            "val Loss: 1.5608 Acc: 0.6387\n",
            "\n",
            "Training complete in 19m 36s\n",
            "Best val Acc: 0.640756\n"
          ],
          "name": "stdout"
        }
      ]
    },
    {
      "cell_type": "code",
      "metadata": {
        "id": "vQJNZlDzx-yL",
        "colab": {
          "base_uri": "https://localhost:8080/"
        },
        "outputId": "c85ba67b-c92d-4391-fbc6-47908732a9ee"
      },
      "source": [
        "print('Testing')\n",
        "model = models.vgg16()\n",
        "num_ftrs = model.classifier[6].in_features\n",
        "model.classifier[6] = nn.Linear(num_ftrs, 20)\n",
        "model = model.to(device)\n",
        "model.load_state_dict(torch.load('/content/best_model_weight.pth'))"
      ],
      "execution_count": 21,
      "outputs": [
        {
          "output_type": "stream",
          "text": [
            "Testing\n"
          ],
          "name": "stdout"
        },
        {
          "output_type": "execute_result",
          "data": {
            "text/plain": [
              "<All keys matched successfully>"
            ]
          },
          "metadata": {
            "tags": []
          },
          "execution_count": 21
        }
      ]
    },
    {
      "cell_type": "code",
      "metadata": {
        "id": "jhw1CJRGx-1Y",
        "colab": {
          "base_uri": "https://localhost:8080/"
        },
        "outputId": "e9160406-8a5b-44f3-9acd-d822a4d10a97"
      },
      "source": [
        "y_true, y_pred = get_test_results(model, 'train')\n",
        "print(f\"Accuracy Score: {accuracy_score(y_true, y_pred)}\\n\")\n",
        "print(f\"Confusion Matrix\\n\")\n",
        "print(np.array2string(confusion_matrix(y_true, y_pred)))"
      ],
      "execution_count": 22,
      "outputs": [
        {
          "output_type": "stream",
          "text": [
            "/usr/local/lib/python3.7/dist-packages/torch/utils/data/dataloader.py:477: UserWarning: This DataLoader will create 4 worker processes in total. Our suggested max number of worker in current system is 2, which is smaller than what this DataLoader is going to create. Please be aware that excessive worker creation might get DataLoader running slow or even freeze, lower the worker number to avoid potential slowness/freeze if necessary.\n",
            "  cpuset_checked))\n"
          ],
          "name": "stderr"
        },
        {
          "output_type": "stream",
          "text": [
            "Accuracy Score: 0.8447237496726892\n",
            "\n",
            "Confusion Matrix\n",
            "\n",
            "[[197   0   0   1   0   0   2   0   0   0   0   0   0   0   0   0   0   0\n",
            "    0   0]\n",
            " [  0 182   0   0   4   4   3   0   0   0   0   0   0   1   1   2   0   0\n",
            "    2   1]\n",
            " [  0   0 193   0   0   0   1   0   1   0   0   1   0   0   1   1   1   0\n",
            "    0   1]\n",
            " [  1   0   1 192   0   0   1   0   0   0   0   0   0   0   4   0   0   1\n",
            "    0   0]\n",
            " [  0   3   0   0 140   0   2   1   4   0  20   5   2   0   2   3   0   4\n",
            "    0  14]\n",
            " [  0   3   0   0   0 161   4   0   0   0   0   0   0   2   0   0   0   0\n",
            "    1   0]\n",
            " [  4   7   0   3   1  14 152   0   0   0   0   3   0   7   4   2   0   0\n",
            "    3   0]\n",
            " [  0   0   0   0   3   0   1 184   1   0   1   4   0   0   0   1   1   2\n",
            "    0   2]\n",
            " [  0   1   0   0   6   0   1   5 108   0  32   5   0   0   3   5   0  12\n",
            "    1  21]\n",
            " [  0   1   0   0   0   0   1   0   0 118   0   0   0   0   0   0   1   0\n",
            "    0   0]\n",
            " [  0   0   0   0   8   0   0   0   9   0 158   1   0   0   1  13   0   8\n",
            "    0   2]\n",
            " [  0   0   1   0   2   0   3   2   2   0   0 175   2   0   2   1   1   9\n",
            "    0   0]\n",
            " [  0   0   0   0   0   0   0   0   0   0   0   0 188   1   1   0   0   0\n",
            "    0   0]\n",
            " [  0   4   0   1   0   2   3   0   0   0   0   0   0 185   3   1   1   0\n",
            "    0   0]\n",
            " [  0   6   0   3   7   1  13   2   9   0   2   2   9  10 128   1   0   3\n",
            "    1   3]\n",
            " [  0   3   0   1   3   0   1   4  12   0  20   4   1   3   1 115   0  20\n",
            "    4   8]\n",
            " [  0   0   0   0   1   0   0   0   0   0   0   1   0   0   0   0 135   0\n",
            "    0   0]\n",
            " [  0   1   0   0   3   0   0   4   1   0   3   4   0   0   1   9   0 162\n",
            "    0  12]\n",
            " [  0   0   0   0   0   0   1   0   0   0   0   0   0   0   1   0   0   0\n",
            "  198   0]\n",
            " [  0   0   0   0   5   0   0   2  10   0   4   1   0   0   1   7   0  15\n",
            "    0 155]]\n"
          ],
          "name": "stdout"
        }
      ]
    },
    {
      "cell_type": "markdown",
      "metadata": {
        "id": "7p9-6ReJ5uT3"
      },
      "source": [
        "# Variation 3"
      ]
    },
    {
      "cell_type": "code",
      "metadata": {
        "id": "sgKJshkFx-4e"
      },
      "source": [
        "#Optimizer : Adadelta algorithm\n",
        "model = models.vgg16(pretrained=True)\n",
        "num_ftrs = model.classifier[6].in_features\n",
        "\n",
        "model.classifier[6] = nn.Linear(num_ftrs, len(class_names))\n",
        "\n",
        "model = model.to(device)\n",
        "\n",
        "criterion = nn.CrossEntropyLoss()\n",
        "\n",
        "# Observe that all parameters are being optimized\n",
        "optimizer = optim.Adadelta(model.parameters(), lr=0.001)\n",
        "\n",
        "# Decay LR by a factor of 0.1 every 7 epochs\n",
        "scheduler = lr_scheduler.StepLR(optimizer, step_size=7, gamma=0.1)"
      ],
      "execution_count": 27,
      "outputs": []
    },
    {
      "cell_type": "code",
      "metadata": {
        "id": "OfsUi19kx-7i",
        "colab": {
          "base_uri": "https://localhost:8080/"
        },
        "outputId": "88ef37be-f380-4f9d-c098-b72ad8fadb57"
      },
      "source": [
        "\n",
        "#Training\n",
        "model = train_model(model, criterion, optimizer, scheduler, num_epochs=25)"
      ],
      "execution_count": 28,
      "outputs": [
        {
          "output_type": "stream",
          "text": [
            "Epoch 1/25\n",
            "----------\n"
          ],
          "name": "stdout"
        },
        {
          "output_type": "stream",
          "text": [
            "/usr/local/lib/python3.7/dist-packages/torch/utils/data/dataloader.py:477: UserWarning: This DataLoader will create 4 worker processes in total. Our suggested max number of worker in current system is 2, which is smaller than what this DataLoader is going to create. Please be aware that excessive worker creation might get DataLoader running slow or even freeze, lower the worker number to avoid potential slowness/freeze if necessary.\n",
            "  cpuset_checked))\n"
          ],
          "name": "stderr"
        },
        {
          "output_type": "stream",
          "text": [
            "train Loss: 2.9110 Acc: 0.1026\n",
            "val Loss: 2.7174 Acc: 0.2227\n",
            "\n",
            "Epoch 2/25\n",
            "----------\n",
            "train Loss: 2.5485 Acc: 0.2257\n",
            "val Loss: 2.1467 Acc: 0.3950\n",
            "\n",
            "Epoch 3/25\n",
            "----------\n",
            "train Loss: 2.0809 Acc: 0.3700\n",
            "val Loss: 1.7533 Acc: 0.4874\n",
            "\n",
            "Epoch 4/25\n",
            "----------\n",
            "train Loss: 1.8084 Acc: 0.4454\n",
            "val Loss: 1.5509 Acc: 0.5483\n",
            "\n",
            "Epoch 5/25\n",
            "----------\n",
            "train Loss: 1.6017 Acc: 0.5109\n",
            "val Loss: 1.4271 Acc: 0.5714\n",
            "\n",
            "Epoch 6/25\n",
            "----------\n",
            "train Loss: 1.4779 Acc: 0.5452\n",
            "val Loss: 1.3610 Acc: 0.6029\n",
            "\n",
            "Epoch 7/25\n",
            "----------\n",
            "train Loss: 1.3787 Acc: 0.5789\n",
            "val Loss: 1.3108 Acc: 0.5987\n",
            "\n",
            "Epoch 8/25\n",
            "----------\n",
            "train Loss: 1.2948 Acc: 0.5996\n",
            "val Loss: 1.3069 Acc: 0.6029\n",
            "\n",
            "Epoch 9/25\n",
            "----------\n",
            "train Loss: 1.2811 Acc: 0.6070\n",
            "val Loss: 1.3014 Acc: 0.6050\n",
            "\n",
            "Epoch 10/25\n",
            "----------\n",
            "train Loss: 1.3068 Acc: 0.6083\n",
            "val Loss: 1.2998 Acc: 0.6092\n",
            "\n",
            "Epoch 11/25\n",
            "----------\n",
            "train Loss: 1.2731 Acc: 0.6096\n",
            "val Loss: 1.2959 Acc: 0.6134\n",
            "\n",
            "Epoch 12/25\n",
            "----------\n",
            "train Loss: 1.2760 Acc: 0.6132\n",
            "val Loss: 1.2916 Acc: 0.6134\n",
            "\n",
            "Epoch 13/25\n",
            "----------\n",
            "train Loss: 1.2706 Acc: 0.6159\n",
            "val Loss: 1.2908 Acc: 0.6197\n",
            "\n",
            "Epoch 14/25\n",
            "----------\n",
            "train Loss: 1.2660 Acc: 0.6127\n",
            "val Loss: 1.2858 Acc: 0.6197\n",
            "\n",
            "Epoch 15/25\n",
            "----------\n",
            "train Loss: 1.2659 Acc: 0.6169\n",
            "val Loss: 1.2857 Acc: 0.6197\n",
            "\n",
            "Epoch 16/25\n",
            "----------\n",
            "train Loss: 1.2475 Acc: 0.6235\n",
            "val Loss: 1.2855 Acc: 0.6176\n",
            "\n",
            "Epoch 17/25\n",
            "----------\n",
            "train Loss: 1.2434 Acc: 0.6193\n",
            "val Loss: 1.2853 Acc: 0.6176\n",
            "\n",
            "Epoch 18/25\n",
            "----------\n",
            "train Loss: 1.2523 Acc: 0.6156\n",
            "val Loss: 1.2849 Acc: 0.6197\n",
            "\n",
            "Epoch 19/25\n",
            "----------\n",
            "train Loss: 1.2563 Acc: 0.6242\n",
            "val Loss: 1.2848 Acc: 0.6197\n",
            "\n",
            "Epoch 20/25\n",
            "----------\n",
            "train Loss: 1.2546 Acc: 0.6130\n",
            "val Loss: 1.2847 Acc: 0.6218\n",
            "\n",
            "Epoch 21/25\n",
            "----------\n",
            "train Loss: 1.2472 Acc: 0.6190\n",
            "val Loss: 1.2845 Acc: 0.6218\n",
            "\n",
            "Epoch 22/25\n",
            "----------\n",
            "train Loss: 1.2624 Acc: 0.6112\n",
            "val Loss: 1.2844 Acc: 0.6218\n",
            "\n",
            "Epoch 23/25\n",
            "----------\n",
            "train Loss: 1.2517 Acc: 0.6201\n",
            "val Loss: 1.2844 Acc: 0.6218\n",
            "\n",
            "Epoch 24/25\n",
            "----------\n",
            "train Loss: 1.2503 Acc: 0.6130\n",
            "val Loss: 1.2844 Acc: 0.6218\n",
            "\n",
            "Epoch 25/25\n",
            "----------\n",
            "train Loss: 1.2361 Acc: 0.6182\n",
            "val Loss: 1.2844 Acc: 0.6218\n",
            "\n",
            "Training complete in 23m 36s\n",
            "Best val Acc: 0.621849\n"
          ],
          "name": "stdout"
        }
      ]
    },
    {
      "cell_type": "code",
      "metadata": {
        "id": "BwiiGUv1x--l",
        "colab": {
          "base_uri": "https://localhost:8080/"
        },
        "outputId": "ae493055-f795-4abc-fd08-0d6e066ff872"
      },
      "source": [
        "print('Testing')\n",
        "model = models.vgg16()\n",
        "num_ftrs = model.classifier[6].in_features\n",
        "model.classifier[6] = nn.Linear(num_ftrs, 20)\n",
        "model = model.to(device)\n",
        "model.load_state_dict(torch.load('/content/best_model_weight.pth'))"
      ],
      "execution_count": 29,
      "outputs": [
        {
          "output_type": "stream",
          "text": [
            "Testing\n"
          ],
          "name": "stdout"
        },
        {
          "output_type": "execute_result",
          "data": {
            "text/plain": [
              "<All keys matched successfully>"
            ]
          },
          "metadata": {
            "tags": []
          },
          "execution_count": 29
        }
      ]
    },
    {
      "cell_type": "code",
      "metadata": {
        "id": "a_nZjcG7x_Bh",
        "colab": {
          "base_uri": "https://localhost:8080/"
        },
        "outputId": "008d60bd-de42-4ce3-801e-2293c58ba182"
      },
      "source": [
        "y_true, y_pred = get_test_results(model, 'train')\n",
        "print(f\"Accuracy Score: {accuracy_score(y_true, y_pred)}\\n\")\n",
        "print(f\"Confusion Matrix\\n\")\n",
        "print(np.array2string(confusion_matrix(y_true, y_pred)))"
      ],
      "execution_count": 30,
      "outputs": [
        {
          "output_type": "stream",
          "text": [
            "/usr/local/lib/python3.7/dist-packages/torch/utils/data/dataloader.py:477: UserWarning: This DataLoader will create 4 worker processes in total. Our suggested max number of worker in current system is 2, which is smaller than what this DataLoader is going to create. Please be aware that excessive worker creation might get DataLoader running slow or even freeze, lower the worker number to avoid potential slowness/freeze if necessary.\n",
            "  cpuset_checked))\n"
          ],
          "name": "stderr"
        },
        {
          "output_type": "stream",
          "text": [
            "Accuracy Score: 0.7054202670856246\n",
            "\n",
            "Confusion Matrix\n",
            "\n",
            "[[189   0   1   4   0   0   4   0   1   0   0   0   0   1   0   0   0   0\n",
            "    0   0]\n",
            " [  0 160   2   4   1   3   5   0   0   0   1   0   2  14   1   1   0   0\n",
            "    6   0]\n",
            " [  0   0 183   3   3   0   1   3   2   0   0   0   0   0   1   1   3   0\n",
            "    0   0]\n",
            " [  3   1   1 182   0   0   5   0   0   0   0   1   0   1   1   0   1   2\n",
            "    2   0]\n",
            " [  0   8   3   3  67   0   2   6   6   0  38   7   1   0  27   2   0   8\n",
            "    2  20]\n",
            " [  0   3   0   2   0 148  13   0   0   0   0   0   0   1   0   0   0   0\n",
            "    4   0]\n",
            " [  6   7   0   8   1  20 127   0   1   0   0   5   0   7   7   2   1   0\n",
            "    7   1]\n",
            " [  0   0   4   0   1   0   0 170   0   0   2  11   0   0   0   0   4   7\n",
            "    0   1]\n",
            " [  0   3   0   2   8   0   3   6  50   0  31   4   0   0  16   8   0  36\n",
            "    0  33]\n",
            " [  0   0   4   1   1   0   2   1   0  73   0   4  18   0   2   0  15   0\n",
            "    0   0]\n",
            " [  0   0   1   0  10   0   0   1  26   0 133   1   0   0   5   4   0  14\n",
            "    0   5]\n",
            " [  0   0   4   1   0   0   2   5   2   0   0 162   9   0   2   0   7   6\n",
            "    0   0]\n",
            " [  0   0   1   2   0   0   2   0   0   4   0   1 175   4   0   0   1   0\n",
            "    0   0]\n",
            " [  0   6   0   3   1   4  10   0   0   0   0   0   0 173   0   2   1   0\n",
            "    0   0]\n",
            " [  1   6   3   8  15   3  18   2   3   1   9   4   9  12  84   2   0   6\n",
            "    4  10]\n",
            " [  0   6   2   1   6   1   7   8  16   0  35   6   1   4   7  54   1  27\n",
            "    4  14]\n",
            " [  1   0   4   1   1   1   0   1   0   5   0   7   0   0   1   0 115   0\n",
            "    0   0]\n",
            " [  0   0   1   0   2   0   0   4  13   0  16  12   1   1   8   2   0 119\n",
            "    0  21]\n",
            " [  0   0   0   1   1   1   3   0   0   0   0   0   0   1   0   0   0   0\n",
            "  191   2]\n",
            " [  0   0   1   0   5   0   1   6   7   0  10   1   0   0   6   3   0  21\n",
            "    0 139]]\n"
          ],
          "name": "stdout"
        }
      ]
    },
    {
      "cell_type": "markdown",
      "metadata": {
        "id": "xV-TYrBt5xrx"
      },
      "source": [
        "# Variation 4"
      ]
    },
    {
      "cell_type": "code",
      "metadata": {
        "id": "-mdJAbrex_FF",
        "colab": {
          "base_uri": "https://localhost:8080/"
        },
        "outputId": "81253f63-beeb-46ae-9949-a1a2d1b44abd"
      },
      "source": [
        "# Optimizer : Adam\n",
        "model = models.vgg16(pretrained=True)\n",
        "num_ftrs = model.classifier[6].in_features\n",
        "\n",
        "model.classifier[6] = nn.Linear(num_ftrs, len(class_names))\n",
        "\n",
        "model = model.to(device)\n",
        "\n",
        "criterion = nn.CrossEntropyLoss()\n",
        "\n",
        "# Observe that all parameters are being optimized\n",
        "optimizer = optim.Adam(model.parameters(), lr=0.001)\n",
        "\n",
        "# Decay LR by a factor of 0.1 every 7 epochs\n",
        "scheduler = lr_scheduler.StepLR(optimizer, step_size=7, gamma=0.1)\n",
        "\n",
        "#Training\n",
        "model = train_model(model, criterion, optimizer, scheduler, num_epochs=25)"
      ],
      "execution_count": 32,
      "outputs": [
        {
          "output_type": "stream",
          "text": [
            "Epoch 1/25\n",
            "----------\n"
          ],
          "name": "stdout"
        },
        {
          "output_type": "stream",
          "text": [
            "/usr/local/lib/python3.7/dist-packages/torch/utils/data/dataloader.py:477: UserWarning: This DataLoader will create 4 worker processes in total. Our suggested max number of worker in current system is 2, which is smaller than what this DataLoader is going to create. Please be aware that excessive worker creation might get DataLoader running slow or even freeze, lower the worker number to avoid potential slowness/freeze if necessary.\n",
            "  cpuset_checked))\n"
          ],
          "name": "stderr"
        },
        {
          "output_type": "stream",
          "text": [
            "train Loss: 3.0333 Acc: 0.0542\n",
            "val Loss: 2.9978 Acc: 0.0525\n",
            "\n",
            "Epoch 2/25\n",
            "----------\n",
            "train Loss: 3.0047 Acc: 0.0490\n",
            "val Loss: 2.9995 Acc: 0.0525\n",
            "\n",
            "Epoch 3/25\n",
            "----------\n",
            "train Loss: 3.0003 Acc: 0.0450\n",
            "val Loss: 3.0013 Acc: 0.0525\n",
            "\n",
            "Epoch 4/25\n",
            "----------\n",
            "train Loss: 3.0014 Acc: 0.0458\n",
            "val Loss: 2.9955 Acc: 0.0525\n",
            "\n",
            "Epoch 5/25\n",
            "----------\n",
            "train Loss: 2.9995 Acc: 0.0534\n",
            "val Loss: 2.9924 Acc: 0.0525\n",
            "\n",
            "Epoch 6/25\n",
            "----------\n",
            "train Loss: 2.9964 Acc: 0.0534\n",
            "val Loss: 2.9915 Acc: 0.0525\n",
            "\n",
            "Epoch 7/25\n",
            "----------\n",
            "train Loss: 2.9967 Acc: 0.0482\n",
            "val Loss: 2.9915 Acc: 0.0525\n",
            "\n",
            "Epoch 8/25\n",
            "----------\n",
            "train Loss: 2.9921 Acc: 0.0490\n",
            "val Loss: 2.9894 Acc: 0.0525\n",
            "\n",
            "Epoch 9/25\n",
            "----------\n",
            "train Loss: 2.9901 Acc: 0.0539\n",
            "val Loss: 2.9888 Acc: 0.0525\n",
            "\n",
            "Epoch 10/25\n",
            "----------\n",
            "train Loss: 2.9930 Acc: 0.0411\n",
            "val Loss: 2.9885 Acc: 0.0525\n",
            "\n",
            "Epoch 11/25\n",
            "----------\n",
            "train Loss: 2.9896 Acc: 0.0513\n",
            "val Loss: 2.9884 Acc: 0.0525\n",
            "\n",
            "Epoch 12/25\n",
            "----------\n",
            "train Loss: 2.9902 Acc: 0.0542\n",
            "val Loss: 2.9883 Acc: 0.0525\n",
            "\n",
            "Epoch 13/25\n",
            "----------\n",
            "train Loss: 2.9898 Acc: 0.0505\n",
            "val Loss: 2.9882 Acc: 0.0525\n",
            "\n",
            "Epoch 14/25\n",
            "----------\n",
            "train Loss: 2.9910 Acc: 0.0471\n",
            "val Loss: 2.9883 Acc: 0.0525\n",
            "\n",
            "Epoch 15/25\n",
            "----------\n",
            "train Loss: 2.9903 Acc: 0.0560\n",
            "val Loss: 2.9883 Acc: 0.0525\n",
            "\n",
            "Epoch 16/25\n",
            "----------\n",
            "train Loss: 2.9888 Acc: 0.0542\n",
            "val Loss: 2.9882 Acc: 0.0525\n",
            "\n",
            "Epoch 17/25\n",
            "----------\n",
            "train Loss: 2.9905 Acc: 0.0500\n",
            "val Loss: 2.9882 Acc: 0.0525\n",
            "\n",
            "Epoch 18/25\n",
            "----------\n",
            "train Loss: 2.9884 Acc: 0.0555\n",
            "val Loss: 2.9882 Acc: 0.0525\n",
            "\n",
            "Epoch 19/25\n",
            "----------\n",
            "train Loss: 2.9893 Acc: 0.0524\n",
            "val Loss: 2.9882 Acc: 0.0525\n",
            "\n",
            "Epoch 20/25\n",
            "----------\n",
            "train Loss: 2.9895 Acc: 0.0571\n",
            "val Loss: 2.9882 Acc: 0.0525\n",
            "\n",
            "Epoch 21/25\n",
            "----------\n",
            "train Loss: 2.9885 Acc: 0.0573\n",
            "val Loss: 2.9882 Acc: 0.0525\n",
            "\n",
            "Epoch 22/25\n",
            "----------\n",
            "train Loss: 2.9895 Acc: 0.0558\n",
            "val Loss: 2.9882 Acc: 0.0525\n",
            "\n",
            "Epoch 23/25\n",
            "----------\n",
            "train Loss: 2.9903 Acc: 0.0511\n",
            "val Loss: 2.9882 Acc: 0.0525\n",
            "\n",
            "Epoch 24/25\n",
            "----------\n",
            "train Loss: 2.9899 Acc: 0.0471\n",
            "val Loss: 2.9882 Acc: 0.0525\n",
            "\n",
            "Epoch 25/25\n",
            "----------\n",
            "train Loss: 2.9896 Acc: 0.0529\n",
            "val Loss: 2.9882 Acc: 0.0525\n",
            "\n",
            "Training complete in 21m 54s\n",
            "Best val Acc: 0.052521\n"
          ],
          "name": "stdout"
        }
      ]
    },
    {
      "cell_type": "code",
      "metadata": {
        "id": "k9YoVpWFx_IX",
        "colab": {
          "base_uri": "https://localhost:8080/"
        },
        "outputId": "a3209346-3ebc-4376-abf4-8f82b26c3b2e"
      },
      "source": [
        "print('Testing')\n",
        "model = models.vgg16()\n",
        "num_ftrs = model.classifier[6].in_features\n",
        "model.classifier[6] = nn.Linear(num_ftrs, 20)\n",
        "model = model.to(device)\n",
        "model.load_state_dict(torch.load('/content/best_model_weight.pth'))"
      ],
      "execution_count": 33,
      "outputs": [
        {
          "output_type": "stream",
          "text": [
            "Testing\n"
          ],
          "name": "stdout"
        },
        {
          "output_type": "execute_result",
          "data": {
            "text/plain": [
              "<All keys matched successfully>"
            ]
          },
          "metadata": {
            "tags": []
          },
          "execution_count": 33
        }
      ]
    },
    {
      "cell_type": "code",
      "metadata": {
        "id": "hhPqRiX_x_MC",
        "colab": {
          "base_uri": "https://localhost:8080/"
        },
        "outputId": "8ddbf2de-eb9f-4a89-ba15-d5a67a7ab532"
      },
      "source": [
        "y_true, y_pred = get_test_results(model, 'train')\n",
        "print(f\"Accuracy Score: {accuracy_score(y_true, y_pred)}\\n\")\n",
        "print(f\"Confusion Matrix\\n\")\n",
        "print(np.array2string(confusion_matrix(y_true, y_pred)))"
      ],
      "execution_count": 34,
      "outputs": [
        {
          "output_type": "stream",
          "text": [
            "/usr/local/lib/python3.7/dist-packages/torch/utils/data/dataloader.py:477: UserWarning: This DataLoader will create 4 worker processes in total. Our suggested max number of worker in current system is 2, which is smaller than what this DataLoader is going to create. Please be aware that excessive worker creation might get DataLoader running slow or even freeze, lower the worker number to avoid potential slowness/freeze if necessary.\n",
            "  cpuset_checked))\n"
          ],
          "name": "stderr"
        },
        {
          "output_type": "stream",
          "text": [
            "Accuracy Score: 0.052369730295888976\n",
            "\n",
            "Confusion Matrix\n",
            "\n",
            "[[  0   0   0   0   0   0   0   0   0   0 200   0   0   0   0   0   0   0\n",
            "    0   0]\n",
            " [  0   0   0   0   0   0   0   0   0   0 200   0   0   0   0   0   0   0\n",
            "    0   0]\n",
            " [  0   0   0   0   0   0   0   0   0   0 200   0   0   0   0   0   0   0\n",
            "    0   0]\n",
            " [  0   0   0   0   0   0   0   0   0   0 200   0   0   0   0   0   0   0\n",
            "    0   0]\n",
            " [  0   0   0   0   0   0   0   0   0   0 200   0   0   0   0   0   0   0\n",
            "    0   0]\n",
            " [  0   0   0   0   0   0   0   0   0   0 171   0   0   0   0   0   0   0\n",
            "    0   0]\n",
            " [  0   0   0   0   0   0   0   0   0   0 200   0   0   0   0   0   0   0\n",
            "    0   0]\n",
            " [  0   0   0   0   0   0   0   0   0   0 200   0   0   0   0   0   0   0\n",
            "    0   0]\n",
            " [  0   0   0   0   0   0   0   0   0   0 200   0   0   0   0   0   0   0\n",
            "    0   0]\n",
            " [  0   0   0   0   0   0   0   0   0   0 121   0   0   0   0   0   0   0\n",
            "    0   0]\n",
            " [  0   0   0   0   0   0   0   0   0   0 200   0   0   0   0   0   0   0\n",
            "    0   0]\n",
            " [  0   0   0   0   0   0   0   0   0   0 200   0   0   0   0   0   0   0\n",
            "    0   0]\n",
            " [  0   0   0   0   0   0   0   0   0   0 190   0   0   0   0   0   0   0\n",
            "    0   0]\n",
            " [  0   0   0   0   0   0   0   0   0   0 200   0   0   0   0   0   0   0\n",
            "    0   0]\n",
            " [  0   0   0   0   0   0   0   0   0   0 200   0   0   0   0   0   0   0\n",
            "    0   0]\n",
            " [  0   0   0   0   0   0   0   0   0   0 200   0   0   0   0   0   0   0\n",
            "    0   0]\n",
            " [  0   0   0   0   0   0   0   0   0   0 137   0   0   0   0   0   0   0\n",
            "    0   0]\n",
            " [  0   0   0   0   0   0   0   0   0   0 200   0   0   0   0   0   0   0\n",
            "    0   0]\n",
            " [  0   0   0   0   0   0   0   0   0   0 200   0   0   0   0   0   0   0\n",
            "    0   0]\n",
            " [  0   0   0   0   0   0   0   0   0   0 200   0   0   0   0   0   0   0\n",
            "    0   0]]\n"
          ],
          "name": "stdout"
        }
      ]
    },
    {
      "cell_type": "markdown",
      "metadata": {
        "id": "_EPogg-o_daY"
      },
      "source": [
        "# Variation 5"
      ]
    },
    {
      "cell_type": "code",
      "metadata": {
        "id": "ylDyAVvmx_TV",
        "colab": {
          "base_uri": "https://localhost:8080/"
        },
        "outputId": "f7e41953-bbaa-409b-900d-48c8a3e0bfac"
      },
      "source": [
        "# number of epochs : 20\n",
        "model = models.vgg16(pretrained=True)\n",
        "num_ftrs = model.classifier[6].in_features\n",
        "\n",
        "model.classifier[6] = nn.Linear(num_ftrs, len(class_names))\n",
        "\n",
        "model = model.to(device)\n",
        "\n",
        "criterion = nn.CrossEntropyLoss()\n",
        "\n",
        "# Observe that all parameters are being optimized\n",
        "optimizer = optim.SGD(model.parameters(), lr=0.001, momentum=0.9)\n",
        "\n",
        "# Decay LR by a factor of 0.1 every 7 epochs\n",
        "scheduler = lr_scheduler.StepLR(optimizer, step_size=7, gamma=0.1)\n",
        "\n",
        "#Training\n",
        "model = train_model(model, criterion, optimizer, scheduler, num_epochs=20)"
      ],
      "execution_count": 35,
      "outputs": [
        {
          "output_type": "stream",
          "text": [
            "Epoch 1/20\n",
            "----------\n"
          ],
          "name": "stdout"
        },
        {
          "output_type": "stream",
          "text": [
            "/usr/local/lib/python3.7/dist-packages/torch/utils/data/dataloader.py:477: UserWarning: This DataLoader will create 4 worker processes in total. Our suggested max number of worker in current system is 2, which is smaller than what this DataLoader is going to create. Please be aware that excessive worker creation might get DataLoader running slow or even freeze, lower the worker number to avoid potential slowness/freeze if necessary.\n",
            "  cpuset_checked))\n"
          ],
          "name": "stderr"
        },
        {
          "output_type": "stream",
          "text": [
            "train Loss: 1.5716 Acc: 0.5302\n",
            "val Loss: 1.3721 Acc: 0.6008\n",
            "\n",
            "Epoch 2/20\n",
            "----------\n",
            "train Loss: 1.1128 Acc: 0.6481\n",
            "val Loss: 1.2404 Acc: 0.6176\n",
            "\n",
            "Epoch 3/20\n",
            "----------\n",
            "train Loss: 0.9267 Acc: 0.7004\n",
            "val Loss: 1.3344 Acc: 0.5882\n",
            "\n",
            "Epoch 4/20\n",
            "----------\n",
            "train Loss: 0.7900 Acc: 0.7345\n",
            "val Loss: 1.2667 Acc: 0.6092\n",
            "\n",
            "Epoch 5/20\n",
            "----------\n",
            "train Loss: 0.6862 Acc: 0.7617\n",
            "val Loss: 1.3381 Acc: 0.6197\n",
            "\n",
            "Epoch 6/20\n",
            "----------\n",
            "train Loss: 0.6113 Acc: 0.7874\n",
            "val Loss: 1.3137 Acc: 0.6197\n",
            "\n",
            "Epoch 7/20\n",
            "----------\n",
            "train Loss: 0.5842 Acc: 0.7827\n",
            "val Loss: 1.3227 Acc: 0.6176\n",
            "\n",
            "Epoch 8/20\n",
            "----------\n",
            "train Loss: 0.4039 Acc: 0.8311\n",
            "val Loss: 1.2897 Acc: 0.6492\n",
            "\n",
            "Epoch 9/20\n",
            "----------\n",
            "train Loss: 0.3626 Acc: 0.8342\n",
            "val Loss: 1.3200 Acc: 0.6555\n",
            "\n",
            "Epoch 10/20\n",
            "----------\n",
            "train Loss: 0.3520 Acc: 0.8329\n",
            "val Loss: 1.3391 Acc: 0.6513\n",
            "\n",
            "Epoch 11/20\n",
            "----------\n",
            "train Loss: 0.3443 Acc: 0.8301\n",
            "val Loss: 1.3534 Acc: 0.6450\n",
            "\n",
            "Epoch 12/20\n",
            "----------\n",
            "train Loss: 0.3388 Acc: 0.8308\n",
            "val Loss: 1.3590 Acc: 0.6429\n",
            "\n",
            "Epoch 13/20\n",
            "----------\n",
            "train Loss: 0.3335 Acc: 0.8298\n",
            "val Loss: 1.3603 Acc: 0.6429\n",
            "\n",
            "Epoch 14/20\n",
            "----------\n",
            "train Loss: 0.3225 Acc: 0.8269\n",
            "val Loss: 1.4149 Acc: 0.6450\n",
            "\n",
            "Epoch 15/20\n",
            "----------\n",
            "train Loss: 0.3094 Acc: 0.8395\n",
            "val Loss: 1.4123 Acc: 0.6408\n",
            "\n",
            "Epoch 16/20\n",
            "----------\n",
            "train Loss: 0.2992 Acc: 0.8421\n",
            "val Loss: 1.4160 Acc: 0.6387\n",
            "\n",
            "Epoch 17/20\n",
            "----------\n",
            "train Loss: 0.3007 Acc: 0.8450\n",
            "val Loss: 1.4222 Acc: 0.6408\n",
            "\n",
            "Epoch 18/20\n",
            "----------\n",
            "train Loss: 0.2960 Acc: 0.8450\n",
            "val Loss: 1.4268 Acc: 0.6408\n",
            "\n",
            "Epoch 19/20\n",
            "----------\n",
            "train Loss: 0.3035 Acc: 0.8337\n",
            "val Loss: 1.4317 Acc: 0.6408\n",
            "\n",
            "Epoch 20/20\n",
            "----------\n",
            "train Loss: 0.2994 Acc: 0.8424\n",
            "val Loss: 1.4381 Acc: 0.6408\n",
            "\n",
            "Training complete in 15m 43s\n",
            "Best val Acc: 0.655462\n"
          ],
          "name": "stdout"
        }
      ]
    },
    {
      "cell_type": "code",
      "metadata": {
        "id": "n931lfQWx_XV",
        "colab": {
          "base_uri": "https://localhost:8080/"
        },
        "outputId": "ae6de140-ff9c-43c5-a81d-d023d7fd2b95"
      },
      "source": [
        "print('Testing')\n",
        "model = models.vgg16()\n",
        "num_ftrs = model.classifier[6].in_features\n",
        "model.classifier[6] = nn.Linear(num_ftrs, 20)\n",
        "model = model.to(device)\n",
        "model.load_state_dict(torch.load('/content/best_model_weight.pth'))"
      ],
      "execution_count": 36,
      "outputs": [
        {
          "output_type": "stream",
          "text": [
            "Testing\n"
          ],
          "name": "stdout"
        },
        {
          "output_type": "execute_result",
          "data": {
            "text/plain": [
              "<All keys matched successfully>"
            ]
          },
          "metadata": {
            "tags": []
          },
          "execution_count": 36
        }
      ]
    },
    {
      "cell_type": "code",
      "metadata": {
        "id": "qEsSR5uux_at",
        "colab": {
          "base_uri": "https://localhost:8080/"
        },
        "outputId": "71927b85-8a3d-4f3a-8aff-b9863582649c"
      },
      "source": [
        "y_true, y_pred = get_test_results(model, 'train')\n",
        "print(f\"Accuracy Score: {accuracy_score(y_true, y_pred)}\\n\")\n",
        "print(f\"Confusion Matrix\\n\")\n",
        "print(np.array2string(confusion_matrix(y_true, y_pred)))"
      ],
      "execution_count": 37,
      "outputs": [
        {
          "output_type": "stream",
          "text": [
            "/usr/local/lib/python3.7/dist-packages/torch/utils/data/dataloader.py:477: UserWarning: This DataLoader will create 4 worker processes in total. Our suggested max number of worker in current system is 2, which is smaller than what this DataLoader is going to create. Please be aware that excessive worker creation might get DataLoader running slow or even freeze, lower the worker number to avoid potential slowness/freeze if necessary.\n",
            "  cpuset_checked))\n"
          ],
          "name": "stderr"
        },
        {
          "output_type": "stream",
          "text": [
            "Accuracy Score: 0.8447237496726892\n",
            "\n",
            "Confusion Matrix\n",
            "\n",
            "[[196   0   0   1   0   0   3   0   0   0   0   0   0   0   0   0   0   0\n",
            "    0   0]\n",
            " [  0 185   0   0   0   5   3   0   0   0   0   0   0   2   2   1   0   0\n",
            "    1   1]\n",
            " [  0   0 193   1   0   0   1   0   1   0   0   1   0   0   1   0   1   0\n",
            "    0   1]\n",
            " [  1   0   0 192   0   0   2   0   0   0   0   1   0   0   2   1   0   1\n",
            "    0   0]\n",
            " [  0   7   0   0 143   0   2   3   2   0  14   3   1   0   3   2   1   8\n",
            "    0  11]\n",
            " [  0   1   0   0   0 160   6   0   0   0   0   0   0   3   0   0   0   0\n",
            "    1   0]\n",
            " [  3   6   0   2   1  12 162   0   0   0   0   2   0   5   5   0   0   0\n",
            "    2   0]\n",
            " [  0   0   0   0   1   0   1 178   4   0   1   4   0   0   2   3   1   3\n",
            "    0   2]\n",
            " [  0   1   0   0   8   0   1   2 107   0  22   3   0   0   4  13   0  11\n",
            "    1  27]\n",
            " [  0   1   0   0   0   0   1   0   0 118   0   0   0   0   0   0   1   0\n",
            "    0   0]\n",
            " [  0   0   0   0  16   0   0   0  14   0 142   1   0   0   2  15   0   5\n",
            "    0   5]\n",
            " [  0   0   1   0   4   0   4   3   3   0   0 178   0   0   0   1   1   5\n",
            "    0   0]\n",
            " [  0   0   0   0   1   0   0   0   0   0   0   2 185   1   1   0   0   0\n",
            "    0   0]\n",
            " [  0   3   0   1   0   2   4   0   0   0   0   0   0 182   7   0   1   0\n",
            "    0   0]\n",
            " [  0   4   0   3   7   2  14   0   8   0   1   4   9   6 132   2   0   5\n",
            "    0   3]\n",
            " [  0   4   1   0   2   0   3   1   8   0  19   3   1   4   0 119   0  19\n",
            "    4  12]\n",
            " [  0   0   0   0   0   0   0   0   0   0   0   1   0   0   0   0 136   0\n",
            "    0   0]\n",
            " [  0   1   0   0   0   0   0   3   2   0   5   7   0   0   0   9   0 158\n",
            "    0  15]\n",
            " [  0   1   0   0   0   0   2   0   0   0   0   0   0   0   2   0   0   0\n",
            "  195   0]\n",
            " [  0   0   0   0   9   0   0   2   1   0   1   1   0   0   2   4   0  15\n",
            "    0 165]]\n"
          ],
          "name": "stdout"
        }
      ]
    },
    {
      "cell_type": "markdown",
      "metadata": {
        "id": "gvBkJ7oi_5IK"
      },
      "source": [
        "# Variation 6"
      ]
    },
    {
      "cell_type": "code",
      "metadata": {
        "id": "svEyXTR5x_eA",
        "colab": {
          "base_uri": "https://localhost:8080/"
        },
        "outputId": "4297db31-50f1-4cc2-ea46-18e0dcee35cb"
      },
      "source": [
        "#Number of epochs : 30\n",
        "model = models.vgg16(pretrained=True)\n",
        "num_ftrs = model.classifier[6].in_features\n",
        "\n",
        "model.classifier[6] = nn.Linear(num_ftrs, len(class_names))\n",
        "\n",
        "model = model.to(device)\n",
        "\n",
        "criterion = nn.CrossEntropyLoss()\n",
        "\n",
        "# Observe that all parameters are being optimized\n",
        "optimizer = optim.SGD(model.parameters(), lr=0.001, momentum=0.9)\n",
        "\n",
        "# Decay LR by a factor of 0.1 every 7 epochs\n",
        "scheduler = lr_scheduler.StepLR(optimizer, step_size=7, gamma=0.1)\n",
        "\n",
        "#Training\n",
        "model = train_model(model, criterion, optimizer, scheduler, num_epochs=30)"
      ],
      "execution_count": 38,
      "outputs": [
        {
          "output_type": "stream",
          "text": [
            "Epoch 1/30\n",
            "----------\n"
          ],
          "name": "stdout"
        },
        {
          "output_type": "stream",
          "text": [
            "/usr/local/lib/python3.7/dist-packages/torch/utils/data/dataloader.py:477: UserWarning: This DataLoader will create 4 worker processes in total. Our suggested max number of worker in current system is 2, which is smaller than what this DataLoader is going to create. Please be aware that excessive worker creation might get DataLoader running slow or even freeze, lower the worker number to avoid potential slowness/freeze if necessary.\n",
            "  cpuset_checked))\n"
          ],
          "name": "stderr"
        },
        {
          "output_type": "stream",
          "text": [
            "train Loss: 1.5793 Acc: 0.5300\n",
            "val Loss: 1.3691 Acc: 0.6008\n",
            "\n",
            "Epoch 2/30\n",
            "----------\n",
            "train Loss: 1.1140 Acc: 0.6502\n",
            "val Loss: 1.3105 Acc: 0.6239\n",
            "\n",
            "Epoch 3/30\n",
            "----------\n",
            "train Loss: 0.9298 Acc: 0.6968\n",
            "val Loss: 1.2875 Acc: 0.6239\n",
            "\n",
            "Epoch 4/30\n",
            "----------\n",
            "train Loss: 0.7850 Acc: 0.7329\n",
            "val Loss: 1.3330 Acc: 0.6197\n",
            "\n",
            "Epoch 5/30\n",
            "----------\n",
            "train Loss: 0.6979 Acc: 0.7588\n",
            "val Loss: 1.3451 Acc: 0.6471\n",
            "\n",
            "Epoch 6/30\n",
            "----------\n",
            "train Loss: 0.6347 Acc: 0.7685\n",
            "val Loss: 1.3163 Acc: 0.6387\n",
            "\n",
            "Epoch 7/30\n",
            "----------\n",
            "train Loss: 0.5885 Acc: 0.7800\n",
            "val Loss: 1.3080 Acc: 0.6576\n",
            "\n",
            "Epoch 8/30\n",
            "----------\n",
            "train Loss: 0.3895 Acc: 0.8363\n",
            "val Loss: 1.3457 Acc: 0.6639\n",
            "\n",
            "Epoch 9/30\n",
            "----------\n",
            "train Loss: 0.3722 Acc: 0.8306\n",
            "val Loss: 1.3630 Acc: 0.6576\n",
            "\n",
            "Epoch 10/30\n",
            "----------\n",
            "train Loss: 0.3592 Acc: 0.8246\n",
            "val Loss: 1.3707 Acc: 0.6660\n",
            "\n",
            "Epoch 11/30\n",
            "----------\n",
            "train Loss: 0.3433 Acc: 0.8280\n",
            "val Loss: 1.3614 Acc: 0.6618\n",
            "\n",
            "Epoch 12/30\n",
            "----------\n",
            "train Loss: 0.3275 Acc: 0.8311\n",
            "val Loss: 1.4314 Acc: 0.6639\n",
            "\n",
            "Epoch 13/30\n",
            "----------\n",
            "train Loss: 0.3384 Acc: 0.8267\n",
            "val Loss: 1.4518 Acc: 0.6618\n",
            "\n",
            "Epoch 14/30\n",
            "----------\n",
            "train Loss: 0.3255 Acc: 0.8285\n",
            "val Loss: 1.4523 Acc: 0.6702\n",
            "\n",
            "Epoch 15/30\n",
            "----------\n",
            "train Loss: 0.3020 Acc: 0.8421\n",
            "val Loss: 1.4615 Acc: 0.6681\n",
            "\n",
            "Epoch 16/30\n",
            "----------\n",
            "train Loss: 0.3002 Acc: 0.8471\n",
            "val Loss: 1.4663 Acc: 0.6681\n",
            "\n",
            "Epoch 17/30\n",
            "----------\n",
            "train Loss: 0.3028 Acc: 0.8416\n",
            "val Loss: 1.4755 Acc: 0.6681\n",
            "\n",
            "Epoch 18/30\n",
            "----------\n",
            "train Loss: 0.2998 Acc: 0.8432\n",
            "val Loss: 1.4845 Acc: 0.6660\n",
            "\n",
            "Epoch 19/30\n",
            "----------\n",
            "train Loss: 0.2963 Acc: 0.8442\n",
            "val Loss: 1.4927 Acc: 0.6639\n",
            "\n",
            "Epoch 20/30\n",
            "----------\n",
            "train Loss: 0.3044 Acc: 0.8411\n",
            "val Loss: 1.4913 Acc: 0.6660\n",
            "\n",
            "Epoch 21/30\n",
            "----------\n",
            "train Loss: 0.2927 Acc: 0.8437\n",
            "val Loss: 1.5006 Acc: 0.6639\n",
            "\n",
            "Epoch 22/30\n",
            "----------\n",
            "train Loss: 0.2991 Acc: 0.8397\n",
            "val Loss: 1.5017 Acc: 0.6639\n",
            "\n",
            "Epoch 23/30\n",
            "----------\n",
            "train Loss: 0.2949 Acc: 0.8421\n",
            "val Loss: 1.5020 Acc: 0.6639\n",
            "\n",
            "Epoch 24/30\n",
            "----------\n",
            "train Loss: 0.2966 Acc: 0.8445\n",
            "val Loss: 1.5021 Acc: 0.6639\n",
            "\n",
            "Epoch 25/30\n",
            "----------\n",
            "train Loss: 0.2940 Acc: 0.8505\n",
            "val Loss: 1.5024 Acc: 0.6639\n",
            "\n",
            "Epoch 26/30\n",
            "----------\n",
            "train Loss: 0.2861 Acc: 0.8473\n",
            "val Loss: 1.5033 Acc: 0.6639\n",
            "\n",
            "Epoch 27/30\n",
            "----------\n",
            "train Loss: 0.2887 Acc: 0.8489\n",
            "val Loss: 1.5044 Acc: 0.6639\n",
            "\n",
            "Epoch 28/30\n",
            "----------\n",
            "train Loss: 0.2977 Acc: 0.8390\n",
            "val Loss: 1.5044 Acc: 0.6639\n",
            "\n",
            "Epoch 29/30\n",
            "----------\n",
            "train Loss: 0.2955 Acc: 0.8390\n",
            "val Loss: 1.5044 Acc: 0.6639\n",
            "\n",
            "Epoch 30/30\n",
            "----------\n",
            "train Loss: 0.2920 Acc: 0.8447\n",
            "val Loss: 1.5044 Acc: 0.6639\n",
            "\n",
            "Training complete in 23m 32s\n",
            "Best val Acc: 0.670168\n"
          ],
          "name": "stdout"
        }
      ]
    },
    {
      "cell_type": "code",
      "metadata": {
        "id": "Dbcb_kRBx_i3",
        "colab": {
          "base_uri": "https://localhost:8080/"
        },
        "outputId": "4b556aa3-3ad1-41d3-fc69-3c12774865c2"
      },
      "source": [
        "print('Testing')\n",
        "model = models.vgg16()\n",
        "num_ftrs = model.classifier[6].in_features\n",
        "model.classifier[6] = nn.Linear(num_ftrs, 20)\n",
        "model = model.to(device)\n",
        "model.load_state_dict(torch.load('/content/best_model_weight.pth'))"
      ],
      "execution_count": 39,
      "outputs": [
        {
          "output_type": "stream",
          "text": [
            "Testing\n"
          ],
          "name": "stdout"
        },
        {
          "output_type": "execute_result",
          "data": {
            "text/plain": [
              "<All keys matched successfully>"
            ]
          },
          "metadata": {
            "tags": []
          },
          "execution_count": 39
        }
      ]
    },
    {
      "cell_type": "code",
      "metadata": {
        "id": "TuquQuI-x_m5",
        "colab": {
          "base_uri": "https://localhost:8080/"
        },
        "outputId": "551c9a9d-5931-43ad-976a-d30117d66c9f"
      },
      "source": [
        "y_true, y_pred = get_test_results(model, 'train')\n",
        "print(f\"Accuracy Score: {accuracy_score(y_true, y_pred)}\\n\")\n",
        "print(f\"Confusion Matrix\\n\")\n",
        "print(np.array2string(confusion_matrix(y_true, y_pred)))"
      ],
      "execution_count": 40,
      "outputs": [
        {
          "output_type": "stream",
          "text": [
            "/usr/local/lib/python3.7/dist-packages/torch/utils/data/dataloader.py:477: UserWarning: This DataLoader will create 4 worker processes in total. Our suggested max number of worker in current system is 2, which is smaller than what this DataLoader is going to create. Please be aware that excessive worker creation might get DataLoader running slow or even freeze, lower the worker number to avoid potential slowness/freeze if necessary.\n",
            "  cpuset_checked))\n"
          ],
          "name": "stderr"
        },
        {
          "output_type": "stream",
          "text": [
            "Accuracy Score: 0.8449855983241686\n",
            "\n",
            "Confusion Matrix\n",
            "\n",
            "[[194   0   0   1   0   0   5   0   0   0   0   0   0   0   0   0   0   0\n",
            "    0   0]\n",
            " [  0 176   0   0   3   4   7   0   1   1   0   0   0   0   2   3   0   1\n",
            "    1   1]\n",
            " [  0   0 197   0   0   0   0   0   1   0   0   1   0   0   0   0   1   0\n",
            "    0   0]\n",
            " [  1   0   1 187   0   0   4   0   0   0   0   0   0   0   6   0   0   1\n",
            "    0   0]\n",
            " [  0   3   0   0 121   0   2   4  10   0  24   5   1   0   7   2   1  10\n",
            "    0  10]\n",
            " [  0   3   0   0   0 160   6   0   0   0   0   0   0   1   0   0   0   0\n",
            "    1   0]\n",
            " [  1   2   1   0   1  13 165   1   2   1   0   4   0   4   4   0   0   0\n",
            "    1   0]\n",
            " [  0   0   0   0   1   0   1 183   2   0   0   4   0   0   2   1   0   4\n",
            "    0   2]\n",
            " [  0   0   0   0   2   0   0   4 118   0  25   2   0   0   5   7   0  20\n",
            "    1  16]\n",
            " [  0   0   0   0   0   0   0   0   0 121   0   0   0   0   0   0   0   0\n",
            "    0   0]\n",
            " [  0   0   0   0   6   0   0   0  13   0 158   0   0   0   0   7   0  13\n",
            "    0   3]\n",
            " [  0   0   1   0   1   0   0   2   3   0   1 172   2   0   2   2   1  12\n",
            "    0   1]\n",
            " [  0   0   0   0   1   0   0   0   0   0   0   0 185   1   2   1   0   0\n",
            "    0   0]\n",
            " [  0   4   0   1   0   3   6   0   0   0   0   0   0 177   5   2   1   1\n",
            "    0   0]\n",
            " [  0   4   1   0   1   1  17   0   9   0   2   2   8   6 139   0   0   5\n",
            "    2   3]\n",
            " [  0   2   1   1   4   0   3   4   8   0  22   2   0   2   2 106   0  32\n",
            "    4   7]\n",
            " [  0   0   0   0   0   0   0   1   0   1   0   1   0   0   0   0 134   0\n",
            "    0   0]\n",
            " [  0   0   0   0   0   0   0   2   0   0   0   1   0   0   0   0   0 194\n",
            "    0   3]\n",
            " [  0   1   0   0   0   0   3   0   0   0   0   0   0   0   0   0   0   0\n",
            "  196   0]\n",
            " [  0   0   1   0   6   0   0   2  10   0   3   0   0   0   1   7   0  26\n",
            "    0 144]]\n"
          ],
          "name": "stdout"
        }
      ]
    }
  ]
}