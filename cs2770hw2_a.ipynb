{
  "nbformat": 4,
  "nbformat_minor": 0,
  "metadata": {
    "colab": {
      "name": "cs2770hw2-a.ipynb",
      "provenance": [],
      "collapsed_sections": [],
      "toc_visible": true
    },
    "kernelspec": {
      "name": "python3",
      "display_name": "Python 3"
    },
    "language_info": {
      "name": "python"
    },
    "accelerator": "GPU",
    "widgets": {
      "application/vnd.jupyter.widget-state+json": {
        "834f274141aa4d84ad0c5dff3e255308": {
          "model_module": "@jupyter-widgets/controls",
          "model_name": "HBoxModel",
          "state": {
            "_view_name": "HBoxView",
            "_dom_classes": [],
            "_model_name": "HBoxModel",
            "_view_module": "@jupyter-widgets/controls",
            "_model_module_version": "1.5.0",
            "_view_count": null,
            "_view_module_version": "1.5.0",
            "box_style": "",
            "layout": "IPY_MODEL_d881dfcba37145f98ff62698424708ed",
            "_model_module": "@jupyter-widgets/controls",
            "children": [
              "IPY_MODEL_f3fc5cf403b54164b7c7280e33d4e45f",
              "IPY_MODEL_242d9586f4b74d38ad30448c27556710"
            ]
          }
        },
        "d881dfcba37145f98ff62698424708ed": {
          "model_module": "@jupyter-widgets/base",
          "model_name": "LayoutModel",
          "state": {
            "_view_name": "LayoutView",
            "grid_template_rows": null,
            "right": null,
            "justify_content": null,
            "_view_module": "@jupyter-widgets/base",
            "overflow": null,
            "_model_module_version": "1.2.0",
            "_view_count": null,
            "flex_flow": null,
            "width": null,
            "min_width": null,
            "border": null,
            "align_items": null,
            "bottom": null,
            "_model_module": "@jupyter-widgets/base",
            "top": null,
            "grid_column": null,
            "overflow_y": null,
            "overflow_x": null,
            "grid_auto_flow": null,
            "grid_area": null,
            "grid_template_columns": null,
            "flex": null,
            "_model_name": "LayoutModel",
            "justify_items": null,
            "grid_row": null,
            "max_height": null,
            "align_content": null,
            "visibility": null,
            "align_self": null,
            "height": null,
            "min_height": null,
            "padding": null,
            "grid_auto_rows": null,
            "grid_gap": null,
            "max_width": null,
            "order": null,
            "_view_module_version": "1.2.0",
            "grid_template_areas": null,
            "object_position": null,
            "object_fit": null,
            "grid_auto_columns": null,
            "margin": null,
            "display": null,
            "left": null
          }
        },
        "f3fc5cf403b54164b7c7280e33d4e45f": {
          "model_module": "@jupyter-widgets/controls",
          "model_name": "FloatProgressModel",
          "state": {
            "_view_name": "ProgressView",
            "style": "IPY_MODEL_2aacdda1b5fd48f48df9c871488127a1",
            "_dom_classes": [],
            "description": "100%",
            "_model_name": "FloatProgressModel",
            "bar_style": "success",
            "max": 553433881,
            "_view_module": "@jupyter-widgets/controls",
            "_model_module_version": "1.5.0",
            "value": 553433881,
            "_view_count": null,
            "_view_module_version": "1.5.0",
            "orientation": "horizontal",
            "min": 0,
            "description_tooltip": null,
            "_model_module": "@jupyter-widgets/controls",
            "layout": "IPY_MODEL_0c0b9313608643649ac338f3205aa1e3"
          }
        },
        "242d9586f4b74d38ad30448c27556710": {
          "model_module": "@jupyter-widgets/controls",
          "model_name": "HTMLModel",
          "state": {
            "_view_name": "HTMLView",
            "style": "IPY_MODEL_ab1bb247ca9044d99c83dfd5c74eeb4b",
            "_dom_classes": [],
            "description": "",
            "_model_name": "HTMLModel",
            "placeholder": "​",
            "_view_module": "@jupyter-widgets/controls",
            "_model_module_version": "1.5.0",
            "value": " 528M/528M [00:04&lt;00:00, 118MB/s]",
            "_view_count": null,
            "_view_module_version": "1.5.0",
            "description_tooltip": null,
            "_model_module": "@jupyter-widgets/controls",
            "layout": "IPY_MODEL_5fb9f00d1ea045fc929eb81ac6388491"
          }
        },
        "2aacdda1b5fd48f48df9c871488127a1": {
          "model_module": "@jupyter-widgets/controls",
          "model_name": "ProgressStyleModel",
          "state": {
            "_view_name": "StyleView",
            "_model_name": "ProgressStyleModel",
            "description_width": "initial",
            "_view_module": "@jupyter-widgets/base",
            "_model_module_version": "1.5.0",
            "_view_count": null,
            "_view_module_version": "1.2.0",
            "bar_color": null,
            "_model_module": "@jupyter-widgets/controls"
          }
        },
        "0c0b9313608643649ac338f3205aa1e3": {
          "model_module": "@jupyter-widgets/base",
          "model_name": "LayoutModel",
          "state": {
            "_view_name": "LayoutView",
            "grid_template_rows": null,
            "right": null,
            "justify_content": null,
            "_view_module": "@jupyter-widgets/base",
            "overflow": null,
            "_model_module_version": "1.2.0",
            "_view_count": null,
            "flex_flow": null,
            "width": null,
            "min_width": null,
            "border": null,
            "align_items": null,
            "bottom": null,
            "_model_module": "@jupyter-widgets/base",
            "top": null,
            "grid_column": null,
            "overflow_y": null,
            "overflow_x": null,
            "grid_auto_flow": null,
            "grid_area": null,
            "grid_template_columns": null,
            "flex": null,
            "_model_name": "LayoutModel",
            "justify_items": null,
            "grid_row": null,
            "max_height": null,
            "align_content": null,
            "visibility": null,
            "align_self": null,
            "height": null,
            "min_height": null,
            "padding": null,
            "grid_auto_rows": null,
            "grid_gap": null,
            "max_width": null,
            "order": null,
            "_view_module_version": "1.2.0",
            "grid_template_areas": null,
            "object_position": null,
            "object_fit": null,
            "grid_auto_columns": null,
            "margin": null,
            "display": null,
            "left": null
          }
        },
        "ab1bb247ca9044d99c83dfd5c74eeb4b": {
          "model_module": "@jupyter-widgets/controls",
          "model_name": "DescriptionStyleModel",
          "state": {
            "_view_name": "StyleView",
            "_model_name": "DescriptionStyleModel",
            "description_width": "",
            "_view_module": "@jupyter-widgets/base",
            "_model_module_version": "1.5.0",
            "_view_count": null,
            "_view_module_version": "1.2.0",
            "_model_module": "@jupyter-widgets/controls"
          }
        },
        "5fb9f00d1ea045fc929eb81ac6388491": {
          "model_module": "@jupyter-widgets/base",
          "model_name": "LayoutModel",
          "state": {
            "_view_name": "LayoutView",
            "grid_template_rows": null,
            "right": null,
            "justify_content": null,
            "_view_module": "@jupyter-widgets/base",
            "overflow": null,
            "_model_module_version": "1.2.0",
            "_view_count": null,
            "flex_flow": null,
            "width": null,
            "min_width": null,
            "border": null,
            "align_items": null,
            "bottom": null,
            "_model_module": "@jupyter-widgets/base",
            "top": null,
            "grid_column": null,
            "overflow_y": null,
            "overflow_x": null,
            "grid_auto_flow": null,
            "grid_area": null,
            "grid_template_columns": null,
            "flex": null,
            "_model_name": "LayoutModel",
            "justify_items": null,
            "grid_row": null,
            "max_height": null,
            "align_content": null,
            "visibility": null,
            "align_self": null,
            "height": null,
            "min_height": null,
            "padding": null,
            "grid_auto_rows": null,
            "grid_gap": null,
            "max_width": null,
            "order": null,
            "_view_module_version": "1.2.0",
            "grid_template_areas": null,
            "object_position": null,
            "object_fit": null,
            "grid_auto_columns": null,
            "margin": null,
            "display": null,
            "left": null
          }
        }
      }
    }
  },
  "cells": [
    {
      "cell_type": "markdown",
      "metadata": {
        "id": "0di104o1vGzH"
      },
      "source": [
        "Import Libraries"
      ]
    },
    {
      "cell_type": "code",
      "metadata": {
        "id": "0UA61R9YCpj0"
      },
      "source": [
        "import argparse, pathlib, numpy as np\n",
        "import torch\n",
        "import torch.nn as nn\n",
        "import torch.optim as optim\n",
        "from torch.optim import lr_scheduler\n",
        "import numpy as np\n",
        "import torchvision\n",
        "from torchvision import datasets, models, transforms\n",
        "import time\n",
        "import os\n",
        "import copy\n",
        "from sklearn.svm import LinearSVC\n",
        "from sklearn.pipeline import make_pipeline\n",
        "from sklearn.preprocessing import StandardScaler\n",
        "from sklearn.metrics import accuracy_score\n",
        "from sklearn.metrics import confusion_matrix"
      ],
      "execution_count": 1,
      "outputs": []
    },
    {
      "cell_type": "code",
      "metadata": {
        "colab": {
          "base_uri": "https://localhost:8080/"
        },
        "id": "h7FniPfIfJJO",
        "outputId": "fdab829f-9056-49fc-aa70-c7ddd90d1680"
      },
      "source": [
        "device = 'cuda:0' if torch.cuda.is_available() else \"cpu\"\n",
        "print(f'Device is {device}')"
      ],
      "execution_count": 2,
      "outputs": [
        {
          "output_type": "stream",
          "text": [
            "Device is cuda:0\n"
          ],
          "name": "stdout"
        }
      ]
    },
    {
      "cell_type": "code",
      "metadata": {
        "id": "WE291ecwITvj"
      },
      "source": [
        "data_transforms = {\n",
        " 'train': transforms.Compose([\n",
        " transforms.Resize((224,224)),\n",
        " transforms.ToTensor(),\n",
        " transforms.Normalize([0.485, 0.456, 0.406], [0.229, 0.224, 0.225])\n",
        " ]),\n",
        " 'val': transforms.Compose([\n",
        " transforms.Resize((224,224)),\n",
        " transforms.ToTensor(),\n",
        " transforms.Normalize([0.485, 0.456, 0.406], [0.229, 0.224, 0.225])\n",
        " ]),\n",
        " 'test': transforms.Compose([\n",
        " transforms.Resize((224,224)),\n",
        " transforms.ToTensor(),\n",
        " transforms.Normalize([0.485, 0.456, 0.406], [0.229, 0.224, 0.225])\n",
        " ]),\n",
        "}"
      ],
      "execution_count": 3,
      "outputs": []
    },
    {
      "cell_type": "code",
      "metadata": {
        "id": "vYWIyvrbZ4lj"
      },
      "source": [
        "# unzip the  file\n",
        "import zipfile\n",
        "with zipfile.ZipFile(\"hw2_data.zip\",\"r\") as zip_ref:\n",
        "    zip_ref.extractall(\"hw2_data\")"
      ],
      "execution_count": 5,
      "outputs": []
    },
    {
      "cell_type": "code",
      "metadata": {
        "id": "00rtaNydIUUp",
        "colab": {
          "base_uri": "https://localhost:8080/"
        },
        "outputId": "6d83bb27-4680-4d77-efba-bb5b5c69e59f"
      },
      "source": [
        "data_dir = '/content/hw2_data/hw2_data'\n",
        "image_datasets = {x: datasets.ImageFolder(os.path.join(data_dir, x), data_transforms[x])\n",
        " for x in ['train', 'val', 'test']}\n",
        "dataloaders = {x: torch.utils.data.DataLoader(image_datasets[x], batch_size=8, shuffle=True, num_workers=4)\n",
        " for x in ['train', 'val' , 'test']}\n",
        "dataset_sizes = {x: len(image_datasets[x]) for x in ['train', 'val', 'test']}\n",
        "class_names = image_datasets['train'].classes"
      ],
      "execution_count": 6,
      "outputs": [
        {
          "output_type": "stream",
          "text": [
            "/usr/local/lib/python3.7/dist-packages/torch/utils/data/dataloader.py:477: UserWarning: This DataLoader will create 4 worker processes in total. Our suggested max number of worker in current system is 2, which is smaller than what this DataLoader is going to create. Please be aware that excessive worker creation might get DataLoader running slow or even freeze, lower the worker number to avoid potential slowness/freeze if necessary.\n",
            "  cpuset_checked))\n"
          ],
          "name": "stderr"
        }
      ]
    },
    {
      "cell_type": "code",
      "metadata": {
        "id": "XURHpgYoIUse"
      },
      "source": [
        "class VGG16_Feature_Extraction(torch.nn.Module):\n",
        "  def __init__(self):\n",
        "    super(VGG16_Feature_Extraction, self).__init__()\n",
        "    VGG16_Pretrained = models.vgg16(pretrained=True)\n",
        "    self.features = VGG16_Pretrained.features\n",
        "    self.avgpool = VGG16_Pretrained.avgpool\n",
        "    self.feature_extractor = nn.Sequential(*[VGG16_Pretrained.classifier[i] for i in range(6)])\n",
        "  def forward(self, x):\n",
        "    x = self.features(x)\n",
        "    x = self.avgpool(x)\n",
        "    x = torch.flatten(x, 1)\n",
        "    x = self.feature_extractor(x)\n",
        "    return x"
      ],
      "execution_count": 7,
      "outputs": []
    },
    {
      "cell_type": "code",
      "metadata": {
        "id": "NX74UHXRehZO",
        "colab": {
          "base_uri": "https://localhost:8080/",
          "height": 83,
          "referenced_widgets": [
            "834f274141aa4d84ad0c5dff3e255308",
            "d881dfcba37145f98ff62698424708ed",
            "f3fc5cf403b54164b7c7280e33d4e45f",
            "242d9586f4b74d38ad30448c27556710",
            "2aacdda1b5fd48f48df9c871488127a1",
            "0c0b9313608643649ac338f3205aa1e3",
            "ab1bb247ca9044d99c83dfd5c74eeb4b",
            "5fb9f00d1ea045fc929eb81ac6388491"
          ]
        },
        "outputId": "9437f698-908f-4ff3-9be1-40f1839334f9"
      },
      "source": [
        "model = VGG16_Feature_Extraction()\n",
        "model = model.to(device)\n"
      ],
      "execution_count": 8,
      "outputs": [
        {
          "output_type": "stream",
          "text": [
            "Downloading: \"https://download.pytorch.org/models/vgg16-397923af.pth\" to /root/.cache/torch/hub/checkpoints/vgg16-397923af.pth\n"
          ],
          "name": "stderr"
        },
        {
          "output_type": "display_data",
          "data": {
            "application/vnd.jupyter.widget-view+json": {
              "model_id": "834f274141aa4d84ad0c5dff3e255308",
              "version_minor": 0,
              "version_major": 2
            },
            "text/plain": [
              "HBox(children=(FloatProgress(value=0.0, max=553433881.0), HTML(value='')))"
            ]
          },
          "metadata": {
            "tags": []
          }
        },
        {
          "output_type": "stream",
          "text": [
            "\n"
          ],
          "name": "stdout"
        }
      ]
    },
    {
      "cell_type": "code",
      "metadata": {
        "id": "IAcqlbCvIVGX",
        "colab": {
          "base_uri": "https://localhost:8080/"
        },
        "outputId": "67e012ec-8598-42f6-b0e4-83be59e615a6"
      },
      "source": [
        "print('Extracting Features')\n",
        "image_features = {}\n",
        "image_labels = {}\n",
        "for phase in ['train', 'test']:\n",
        " for inputs, labels in dataloaders[phase]:\n",
        "  inputs = inputs.to(device)\n",
        "  model_prediction = model(inputs)\n",
        "  model_prediction_numpy = model_prediction.cpu().detach().numpy()\n",
        "  if (phase not in image_features):\n",
        "   image_features[phase] = model_prediction_numpy\n",
        "   image_labels[phase] = labels.numpy()\n",
        "  else:\n",
        "   image_features[phase] = np.concatenate((image_features[phase], model_prediction_numpy), axis=0)\n",
        "   image_labels[phase] = np.concatenate((image_labels[phase], labels.numpy()), axis=0)"
      ],
      "execution_count": 9,
      "outputs": [
        {
          "output_type": "stream",
          "text": [
            "Extracting Features\n"
          ],
          "name": "stdout"
        },
        {
          "output_type": "stream",
          "text": [
            "/usr/local/lib/python3.7/dist-packages/torch/utils/data/dataloader.py:477: UserWarning: This DataLoader will create 4 worker processes in total. Our suggested max number of worker in current system is 2, which is smaller than what this DataLoader is going to create. Please be aware that excessive worker creation might get DataLoader running slow or even freeze, lower the worker number to avoid potential slowness/freeze if necessary.\n",
            "  cpuset_checked))\n"
          ],
          "name": "stderr"
        }
      ]
    },
    {
      "cell_type": "code",
      "metadata": {
        "id": "VyfqL1p0gBPq"
      },
      "source": [
        "import pickle as pickle\n",
        "pickle_out = open(\"/content/pickle/image_features.pickle\",\"wb\")\n",
        "pickle.dump(image_features, pickle_out)\n",
        "pickle_out.close()"
      ],
      "execution_count": 11,
      "outputs": []
    },
    {
      "cell_type": "code",
      "metadata": {
        "id": "gltYtGv5pkwE"
      },
      "source": [
        "pickle_out = open(\"/content/pickle/image_labels.pickle\",\"wb\")\n",
        "pickle.dump(image_labels, pickle_out)\n",
        "pickle_out.close()"
      ],
      "execution_count": 12,
      "outputs": []
    },
    {
      "cell_type": "code",
      "metadata": {
        "colab": {
          "base_uri": "https://localhost:8080/"
        },
        "id": "MucBmGHfqEvQ",
        "outputId": "3e17be22-b321-4d4c-e224-b9c44d906468"
      },
      "source": [
        "print('Training SVM')\n",
        "clf = make_pipeline(StandardScaler(), LinearSVC(random_state=0))\n",
        "clf.fit(image_features['train'], image_labels['train'])\n",
        "\n"
      ],
      "execution_count": 13,
      "outputs": [
        {
          "output_type": "stream",
          "text": [
            "Training SVM\n"
          ],
          "name": "stdout"
        },
        {
          "output_type": "execute_result",
          "data": {
            "text/plain": [
              "Pipeline(memory=None,\n",
              "         steps=[('standardscaler',\n",
              "                 StandardScaler(copy=True, with_mean=True, with_std=True)),\n",
              "                ('linearsvc',\n",
              "                 LinearSVC(C=1.0, class_weight=None, dual=True,\n",
              "                           fit_intercept=True, intercept_scaling=1,\n",
              "                           loss='squared_hinge', max_iter=1000,\n",
              "                           multi_class='ovr', penalty='l2', random_state=0,\n",
              "                           tol=0.0001, verbose=0))],\n",
              "         verbose=False)"
            ]
          },
          "metadata": {
            "tags": []
          },
          "execution_count": 13
        }
      ]
    },
    {
      "cell_type": "code",
      "metadata": {
        "colab": {
          "base_uri": "https://localhost:8080/"
        },
        "id": "3jpoqaiwqFAG",
        "outputId": "47b6750a-3623-475a-ea1a-96419cfeeb9d"
      },
      "source": [
        "print('Testing SVM')\n",
        "\n",
        "y_true = image_labels['test']\n",
        "y_pred = clf.predict(image_features['test'])\n",
        "print(\"Part A Accuracy Score: \",{accuracy_score(y_true, y_pred)})\n",
        "print(\"Part A Confusion Matrix:\\n\",np.array2string(confusion_matrix(y_true, y_pred)))"
      ],
      "execution_count": 14,
      "outputs": [
        {
          "output_type": "stream",
          "text": [
            "Testing SVM\n",
            "Part A Accuracy Score:  {0.5084033613445378}\n",
            "Part A Confusion Matrix:\n",
            " [[22  0  0  1  0  0  0  0  1  0  0  0  0  0  0  0  0  0  1  0]\n",
            " [ 0 13  0  1  0  1  1  0  0  0  0  0  0  4  2  1  0  1  0  1]\n",
            " [ 0  0 17  2  0  0  0  1  1  0  0  0  0  0  0  1  1  1  0  1]\n",
            " [ 0  2  0 20  2  0  1  0  0  0  0  0  0  0  0  0  0  0  0  0]\n",
            " [ 1  0  0  0  6  0  2  0  2  0  7  0  0  0  3  1  0  1  0  2]\n",
            " [ 0  0  0  0  0 15  1  0  1  0  1  0  0  1  1  0  1  0  0  0]\n",
            " [ 1  1  0  1  0  1 10  0  1  0  1  0  0  1  3  1  0  1  1  2]\n",
            " [ 0  0  0  1  2  0  0 17  1  1  0  2  0  0  1  0  0  0  0  0]\n",
            " [ 0  0  0  0  6  0  2  1  4  0  6  2  0  0  1  1  0  1  0  1]\n",
            " [ 0  0  0  0  0  0  0  0  1  3  0  1  1  1  3  3  2  0  0  0]\n",
            " [ 1  0  0  0  5  0  0  1  2  0  8  0  0  0  5  1  0  1  0  1]\n",
            " [ 0  0  0  2  1  0  1  1  0  1  1  9  0  0  1  0  2  4  0  2]\n",
            " [ 1  1  0  0  0  0  1  0  1  2  0  1 14  0  1  0  0  0  0  1]\n",
            " [ 0  0  0  1  0  0  1  0  0  0  0  0  0 22  0  0  0  0  1  0]\n",
            " [ 0  0  0  1  6  0  2  0  1  0  1  2  1  0  5  3  0  0  0  3]\n",
            " [ 0  3  0  0  3  0  0  0  3  1  2  1  0  0  1  4  0  3  1  3]\n",
            " [ 0  0  0  1  1  0  1  0  0  2  1  1  0  0  0  0  8  2  0  0]\n",
            " [ 0  0  0  0  2  0  0  1  2  0  3  1  0  0  3  0  0 10  0  3]\n",
            " [ 0  0  0  1  0  2  2  0  0  0  0  0  0  0  0  0  0  0 20  0]\n",
            " [ 0  0  0  0  1  1  0  0  3  1  1  0  0  0  0  1  0  2  0 15]]\n"
          ],
          "name": "stdout"
        }
      ]
    }
  ]
}